{
 "cells": [
  {
   "cell_type": "markdown",
   "metadata": {},
   "source": [
    "Current working notepad:\n",
    "\n",
    "* add brewery measures of dispersion"
   ]
  },
  {
   "cell_type": "code",
   "execution_count": 21,
   "metadata": {},
   "outputs": [],
   "source": [
    "import pandas as pd\n",
    "import os.path\n",
    "import numpy as np\n",
    "from scipy.stats import norm\n",
    "from datetime import datetime\n",
    "\n",
    "in_filename = r'data' + os.path.sep + r'final_beer_data.csv'"
   ]
  },
  {
   "cell_type": "code",
   "execution_count": 2,
   "metadata": {},
   "outputs": [],
   "source": [
    "import matplotlib.pyplot as plt\n",
    "%matplotlib inline\n",
    "plt.style.use('ggplot')"
   ]
  },
  {
   "cell_type": "markdown",
   "metadata": {},
   "source": [
    "# Part 2: Analysis\n",
    "\n",
    "Welcome to `Part 2` of my Beer Analysis project! If you're just joining me, don't worry, you didn't miss much in `Part 1`. It was just a bunch of code mumbo-jumbo to clean up the data into a format that's easier for the computer to understand. This is the real meat of the project: *the analysis!* In this section, I'll be looking at the following sections:\n",
    "\n",
    "1. [The Statistics of My Beer Ratings](#section_1)\n",
    "    1. [Distribution: Statistics of Ratings](#section_1a)   \n",
    "    2. [Distribution: Visualizing the Ratings](#section_1b)\n",
    "    \n",
    "2. [Beers Drank Over Time](#section_2)\n",
    "    1. [The Statistics](#section_2a)\n",
    "    2. [The Visualization](#section_2b)\n",
    "    \n",
    "3. [The Best and Worst Beer Styles](#section_3)\n",
    "4. [Breweries and Beers: Miscellaneous Statistics](#section_4)\n",
    "5. [The Future?](#section_5)\n",
    "\n",
    "Feel free to click on any of those titles above to go straight to those sections.\n",
    "\n",
    "**How to read this:** If you're not a computer person, you can ignore the little boxes with computer code and read only the boxes formatted with text like this one and look at the graphs/charts"
   ]
  },
  {
   "cell_type": "code",
   "execution_count": 3,
   "metadata": {},
   "outputs": [],
   "source": [
    "# read in data to dataframe\n",
    "in_path = os.path.join(os.getcwd(), in_filename)\n",
    "df = pd.read_csv(in_path, encoding='utf-8', parse_dates=['created_at'])\n",
    "df.drop_duplicates('beer_name', inplace=True)"
   ]
  },
  {
   "cell_type": "code",
   "execution_count": 22,
   "metadata": {},
   "outputs": [
    {
     "data": {
      "text/html": [
       "<div>\n",
       "<style>\n",
       "    .dataframe thead tr:only-child th {\n",
       "        text-align: right;\n",
       "    }\n",
       "\n",
       "    .dataframe thead th {\n",
       "        text-align: left;\n",
       "    }\n",
       "\n",
       "    .dataframe tbody tr th {\n",
       "        vertical-align: top;\n",
       "    }\n",
       "</style>\n",
       "<table border=\"1\" class=\"dataframe\">\n",
       "  <thead>\n",
       "    <tr style=\"text-align: right;\">\n",
       "      <th></th>\n",
       "      <th>beer_name</th>\n",
       "      <th>brewery_name</th>\n",
       "      <th>beer_type</th>\n",
       "      <th>simple_style</th>\n",
       "      <th>beer_abv</th>\n",
       "      <th>beer_ibu</th>\n",
       "      <th>venue_name</th>\n",
       "      <th>venue_city</th>\n",
       "      <th>venue_state</th>\n",
       "      <th>venue_country</th>\n",
       "      <th>venue_lat</th>\n",
       "      <th>venue_lng</th>\n",
       "      <th>rating_score</th>\n",
       "      <th>created_at</th>\n",
       "      <th>brewery_country</th>\n",
       "      <th>brewery_city</th>\n",
       "      <th>brewery_state</th>\n",
       "      <th>week</th>\n",
       "      <th>month</th>\n",
       "    </tr>\n",
       "  </thead>\n",
       "  <tbody>\n",
       "    <tr>\n",
       "      <th>0</th>\n",
       "      <td>Truth</td>\n",
       "      <td>Rhinegeist Brewery</td>\n",
       "      <td>IPA - American</td>\n",
       "      <td>American IPA</td>\n",
       "      <td>7.2</td>\n",
       "      <td>75</td>\n",
       "      <td>Rhinegeist Brewery</td>\n",
       "      <td>Cincinnati</td>\n",
       "      <td>OH</td>\n",
       "      <td>United States</td>\n",
       "      <td>39.1172</td>\n",
       "      <td>-84.5201</td>\n",
       "      <td>3.00</td>\n",
       "      <td>2015-10-06 20:04:06</td>\n",
       "      <td>United States</td>\n",
       "      <td>Cincinnati</td>\n",
       "      <td>OH</td>\n",
       "      <td>0</td>\n",
       "      <td>10</td>\n",
       "    </tr>\n",
       "    <tr>\n",
       "      <th>1</th>\n",
       "      <td>Hugh</td>\n",
       "      <td>Rhinegeist Brewery</td>\n",
       "      <td>Hefeweizen</td>\n",
       "      <td>Hefeweizen</td>\n",
       "      <td>5.4</td>\n",
       "      <td>10</td>\n",
       "      <td>Rhinegeist Brewery</td>\n",
       "      <td>Cincinnati</td>\n",
       "      <td>OH</td>\n",
       "      <td>United States</td>\n",
       "      <td>39.1172</td>\n",
       "      <td>-84.5201</td>\n",
       "      <td>3.50</td>\n",
       "      <td>2015-10-06 20:05:38</td>\n",
       "      <td>United States</td>\n",
       "      <td>Cincinnati</td>\n",
       "      <td>OH</td>\n",
       "      <td>0</td>\n",
       "      <td>10</td>\n",
       "    </tr>\n",
       "    <tr>\n",
       "      <th>2</th>\n",
       "      <td>Uncle</td>\n",
       "      <td>Rhinegeist Brewery</td>\n",
       "      <td>English Mild Ale</td>\n",
       "      <td>English Mild Ale</td>\n",
       "      <td>3.8</td>\n",
       "      <td>17</td>\n",
       "      <td>Rhinegeist Brewery</td>\n",
       "      <td>Cincinnati</td>\n",
       "      <td>OH</td>\n",
       "      <td>United States</td>\n",
       "      <td>39.1172</td>\n",
       "      <td>-84.5201</td>\n",
       "      <td>3.25</td>\n",
       "      <td>2015-10-06 20:06:24</td>\n",
       "      <td>United States</td>\n",
       "      <td>Cincinnati</td>\n",
       "      <td>OH</td>\n",
       "      <td>0</td>\n",
       "      <td>10</td>\n",
       "    </tr>\n",
       "  </tbody>\n",
       "</table>\n",
       "</div>"
      ],
      "text/plain": [
       "  beer_name        brewery_name         beer_type      simple_style  beer_abv  \\\n",
       "0     Truth  Rhinegeist Brewery    IPA - American      American IPA       7.2   \n",
       "1      Hugh  Rhinegeist Brewery        Hefeweizen        Hefeweizen       5.4   \n",
       "2     Uncle  Rhinegeist Brewery  English Mild Ale  English Mild Ale       3.8   \n",
       "\n",
       "   beer_ibu          venue_name  venue_city venue_state  venue_country  \\\n",
       "0        75  Rhinegeist Brewery  Cincinnati          OH  United States   \n",
       "1        10  Rhinegeist Brewery  Cincinnati          OH  United States   \n",
       "2        17  Rhinegeist Brewery  Cincinnati          OH  United States   \n",
       "\n",
       "   venue_lat  venue_lng  rating_score          created_at brewery_country  \\\n",
       "0    39.1172   -84.5201          3.00 2015-10-06 20:04:06   United States   \n",
       "1    39.1172   -84.5201          3.50 2015-10-06 20:05:38   United States   \n",
       "2    39.1172   -84.5201          3.25 2015-10-06 20:06:24   United States   \n",
       "\n",
       "  brewery_city brewery_state  week  month  \n",
       "0   Cincinnati            OH     0     10  \n",
       "1   Cincinnati            OH     0     10  \n",
       "2   Cincinnati            OH     0     10  "
      ]
     },
     "execution_count": 22,
     "metadata": {},
     "output_type": "execute_result"
    }
   ],
   "source": [
    "# view the head of our df\n",
    "df.head(3)"
   ]
  },
  {
   "cell_type": "markdown",
   "metadata": {},
   "source": [
    "<a id=\"section_1\"></a>"
   ]
  },
  {
   "cell_type": "markdown",
   "metadata": {},
   "source": [
    "# 1. The Statistics of My Beer Ratings"
   ]
  },
  {
   "cell_type": "markdown",
   "metadata": {},
   "source": [
    "<a id=\"section_1a\"></a>"
   ]
  },
  {
   "cell_type": "markdown",
   "metadata": {},
   "source": [
    "## a. Distribution: Statistics of Ratings\n",
    "\n",
    "First thing I want to look at is the distrubution of ratings, displayed as a histogram, as well as some basic population parameters, primarily measures of central tendency like `mean, mode, median` and measures of dispersion like `standard deviation`.\n",
    "\n",
    "**Data Explanation:** To explain the data we'll be looking at quickly, when a beer is logged (checked-in) to Untappd, the user can assign it a rating on a scale from 0.25 to 5, in .25 intervals. It's possible to leave a beer with 'no rating', but this is counted as a Null value instead of a 0. For me, I've considered 0.25 to be the lowest possible rating. Thus the 6 beers that have a Null value were beers I simply forgot to rate (instead of trying to assign them a 0). I'll exclude this 6 beers before we begin to analyze."
   ]
  },
  {
   "cell_type": "code",
   "execution_count": 25,
   "metadata": {},
   "outputs": [],
   "source": [
    "# list all scores that aren't null\n",
    "raw_scores = df.rating_score[df.rating_score.notnull()]"
   ]
  },
  {
   "cell_type": "markdown",
   "metadata": {},
   "source": [
    "So let's first create a frequency table to show in text form the information we're interested in."
   ]
  },
  {
   "cell_type": "code",
   "execution_count": 26,
   "metadata": {},
   "outputs": [
    {
     "data": {
      "text/plain": [
       "0.25     2\n",
       "0.50     2\n",
       "0.75     1\n",
       "1.00     2\n",
       "1.25     1\n",
       "1.50     5\n",
       "1.75     4\n",
       "2.00    17\n",
       "2.25    18\n",
       "2.50    28\n",
       "2.75    62\n",
       "3.00    83\n",
       "3.25    66\n",
       "3.50    65\n",
       "3.75    51\n",
       "4.00    17\n",
       "4.25    18\n",
       "4.50     7\n",
       "Name: rating_score, dtype: int64"
      ]
     },
     "execution_count": 26,
     "metadata": {},
     "output_type": "execute_result"
    }
   ],
   "source": [
    "# first, value counts can show us in text form what we're looking at\n",
    "scores = raw_scores.value_counts().sort_index()\n",
    "scores"
   ]
  },
  {
   "cell_type": "markdown",
   "metadata": {},
   "source": [
    "Now let's calculate the `mean, median` and `mode` of all the scores."
   ]
  },
  {
   "cell_type": "code",
   "execution_count": 147,
   "metadata": {},
   "outputs": [
    {
     "name": "stdout",
     "output_type": "stream",
     "text": [
      "The mean is 3.103 and the standard deviation is 0.67475.\n"
     ]
    }
   ],
   "source": [
    "# mean and standard deviaton of my ratings\n",
    "scores_mean = np.mean(raw_scores)\n",
    "scores_std = np.std(raw_scores)\n",
    "print('The mean is {:.5} and the standard deviation is {:.5}.'.format(scores_mean, scores_std))"
   ]
  },
  {
   "cell_type": "code",
   "execution_count": 28,
   "metadata": {},
   "outputs": [
    {
     "name": "stdout",
     "output_type": "stream",
     "text": [
      "The median is 3.0.\n"
     ]
    }
   ],
   "source": [
    "# let's find the median and mode\n",
    "scores_median = np.median(sorted(raw_scores))\n",
    "print('The median is {}.'.format(scores_median))"
   ]
  },
  {
   "cell_type": "code",
   "execution_count": 29,
   "metadata": {},
   "outputs": [
    {
     "name": "stdout",
     "output_type": "stream",
     "text": [
      "The mode is 3.0.\n"
     ]
    }
   ],
   "source": [
    "# and mode\n",
    "scores_mode = scores.sort_values(ascending=False).index[0]\n",
    "print('The mode is {}.'.format(scores_mode))"
   ]
  },
  {
   "cell_type": "markdown",
   "metadata": {},
   "source": [
    "Next up, the `first quartile` and `third quartile`. In statistics, when you split a dataset into four equal parts, the middle is the `median`, which is halfway - 50%. The `first` and `third quartiles` are the halfway points above and below the `median`, or the points at 25% and 75%."
   ]
  },
  {
   "cell_type": "code",
   "execution_count": 34,
   "metadata": {},
   "outputs": [
    {
     "name": "stdout",
     "output_type": "stream",
     "text": [
      "The first quartile is 2.75 and the third quartile is 3.5.\n"
     ]
    }
   ],
   "source": [
    "# now I want to find the first and third quartiles\n",
    "scores_firstq = np.percentile(raw_scores, 25)\n",
    "scores_thirdq = np.percentile(raw_scores, 75)\n",
    "print('The first quartile is {} and the third quartile is {}.'.format(scores_firstq, scores_thirdq))"
   ]
  },
  {
   "cell_type": "code",
   "execution_count": 37,
   "metadata": {},
   "outputs": [
    {
     "data": {
      "text/plain": [
       "0.31625835189309576"
      ]
     },
     "execution_count": 37,
     "metadata": {},
     "output_type": "execute_result"
    }
   ],
   "source": [
    "# so roughly 25% of data should fall outside either quartile - note rougly, since we have categorical data here\n",
    "# below lower quartile\n",
    "total = scores.sum()\n",
    "scores[:2.75].sum()/total"
   ]
  },
  {
   "cell_type": "code",
   "execution_count": 38,
   "metadata": {},
   "outputs": [
    {
     "data": {
      "text/plain": [
       "0.35189309576837419"
      ]
     },
     "execution_count": 38,
     "metadata": {},
     "output_type": "execute_result"
    }
   ],
   "source": [
    "# above upper quartile\n",
    "scores[3.5:].sum()/total"
   ]
  },
  {
   "cell_type": "markdown",
   "metadata": {},
   "source": [
    "Now that we have our first and third quartiles, we can definte the Interquartile Range (IQR), which is just the difference between the two. Furthermore, we can use the IQR to determine if we have any outliers. Outliers are defined as `data < Q1 - (1.5 * IQR)` or `data > Q3 + (1.5 * IQR)`"
   ]
  },
  {
   "cell_type": "code",
   "execution_count": 39,
   "metadata": {},
   "outputs": [
    {
     "name": "stdout",
     "output_type": "stream",
     "text": [
      "The IQR of the ratings is 0.75.\n"
     ]
    }
   ],
   "source": [
    "# IQR\n",
    "IQR = scores_thirdq - scores_firstq\n",
    "print('The IQR of the ratings is {}.'.format(IQR))"
   ]
  },
  {
   "cell_type": "code",
   "execution_count": 40,
   "metadata": {},
   "outputs": [
    {
     "name": "stdout",
     "output_type": "stream",
     "text": [
      "Outliers are points below 1.625 or above 4.625.\n"
     ]
    }
   ],
   "source": [
    "# outlier points\n",
    "print('Outliers are points below {} or above {}.'.format((scores_firstq - (1.5 * IQR)), (scores_thirdq + (1.5 * IQR))))"
   ]
  },
  {
   "cell_type": "markdown",
   "metadata": {},
   "source": [
    "Finally, let's look at a few random percentages."
   ]
  },
  {
   "cell_type": "code",
   "execution_count": 51,
   "metadata": {},
   "outputs": [
    {
     "data": {
      "text/plain": [
       "13"
      ]
     },
     "execution_count": 51,
     "metadata": {},
     "output_type": "execute_result"
    }
   ],
   "source": [
    "# how outliers many below 1.625?\n",
    "scores[:1.625].sum()"
   ]
  },
  {
   "cell_type": "code",
   "execution_count": 47,
   "metadata": {},
   "outputs": [
    {
     "name": "stdout",
     "output_type": "stream",
     "text": [
      "2.90%\n"
     ]
    }
   ],
   "source": [
    "# what percent is that?\n",
    "print('{0:.2f}%'.format((scores[:1.625].sum() / total) * 100))"
   ]
  },
  {
   "cell_type": "code",
   "execution_count": 48,
   "metadata": {},
   "outputs": [
    {
     "name": "stdout",
     "output_type": "stream",
     "text": [
      "17.82%\n"
     ]
    }
   ],
   "source": [
    "# percentage of ratings in lower half (of possible scores, not lower half of distribution)\n",
    "print('{0:.2f}%'.format((scores[0:2.5].sum() / total) * 100))"
   ]
  },
  {
   "cell_type": "code",
   "execution_count": 49,
   "metadata": {},
   "outputs": [
    {
     "name": "stdout",
     "output_type": "stream",
     "text": [
      "9.35%\n"
     ]
    }
   ],
   "source": [
    "# percentage of ratings above 4.0\n",
    "print('{0:.2f}%'.format((scores[4.0:5.0].sum()/total) * 100))"
   ]
  },
  {
   "cell_type": "markdown",
   "metadata": {},
   "source": [
    "### Summary\n",
    "\n",
    "So what can we take from all these numbers? \n",
    "\n",
    "* The most common rating (or `mode`) is `3.0`, with 83 total ratings. \n",
    "* Remember the `mean` (or average) falls close at `3.1`, and the `median` (or middle, 50% point) falls right with the `mode` at `3.0`. \n",
    "* This shows numerically that, while close to a normal distribution, the population has a slight positive (or right) skew, as the `mean` is higher than both our `median` and `mode`. Because the data is categorical, however, it ends up being almost perfectly normal when `3.0` is considered the 'middle'.\n",
    "* Our `standard deviation` of ratings was `.674`. Based on knowledge of normal distribution and z-values, `68%` of all scores should fall within `±1 std`, or between `3.1 - .674` and `3.1 + .674`.\n",
    "* In addition, roughly half our data should fall within the `2.75-3.5` range, with this `.75 range` being our `IQR`. \n",
    "* With our `IQR` we noticed outliers would be any ratings `above a 4.625` or `below a 1.625`. Since I've never rated a beer `higher than 4.5`, we should have no upper outliers. A few beers have gotten `below a 1.5`, however: `13 beers`, or `2.9%` are outliers.\n",
    "* We also looked at a few percentages. In the lower half of ratings (0 - 2.5) only `93 beers`, or `17.82%` have been unlucky enough to get that low of a rating, while only `9.35%` have gotten a rating above `4.0`.\n"
   ]
  },
  {
   "cell_type": "markdown",
   "metadata": {},
   "source": [
    "<a id=\"section_1b\"></a>"
   ]
  },
  {
   "cell_type": "markdown",
   "metadata": {},
   "source": [
    "## b. Distribution: Visualizing the Ratings"
   ]
  },
  {
   "cell_type": "markdown",
   "metadata": {},
   "source": [
    "Now, let's visualize the numbers we just calculated. First, we'll create a histogram that shows the distribution of each ranking, with each bin being a different ranking. I'll overlay ontop of the histogram the nomral distribution function in orange."
   ]
  },
  {
   "cell_type": "code",
   "execution_count": 52,
   "metadata": {},
   "outputs": [
    {
     "data": {
      "image/png": "[encoded data removed]",
      "text/plain": [
       "<matplotlib.figure.Figure at 0xc15a10>"
      ]
     },
     "metadata": {},
     "output_type": "display_data"
    }
   ],
   "source": [
    "# let's create the histogram now\n",
    "n_bins = np.linspace(0.125, 5.125, 21) # probably not most efficient way to create bins..\n",
    "fit = norm.pdf(sorted(raw_scores), np.mean(raw_scores), np.std(raw_scores))\n",
    "\n",
    "plt.hist(df.rating_score[df.rating_score.notnull()], bins=n_bins,\n",
    "             align='mid', rwidth=.75, normed=True)\n",
    "plt.plot(sorted(raw_scores),fit, '-o', alpha=0.5, color='orange', markeredgecolor='orange')\n",
    "\n",
    "plt.xlim(0, 5)\n",
    "plt.title('Distribution of ratings')\n",
    "plt.xlabel('Beer Rating')\n",
    "plt.ylabel('Number of ratings')\n",
    "\n",
    "xlocs = np.linspace(0.5, 5.0, 10)\n",
    "plt.xticks(xlocs, xlocs)\n",
    "\n",
    "# i want to fix ylabels to show total number of rankings instead of normalized proportions \n",
    "# to do this, i'll set the labels 0-80 in intervals of 10 and work backwards to find their respective positions\n",
    "ylocs_fixed = np.linspace(0, 80, 9)\n",
    "ylocs = (ylocs_fixed / (len(df) * .25))\n",
    "plt.yticks(ylocs, ylocs_fixed);"
   ]
  },
  {
   "cell_type": "markdown",
   "metadata": {},
   "source": [
    "Next, let's create a simple boxplot. "
   ]
  },
  {
   "cell_type": "code",
   "execution_count": 53,
   "metadata": {},
   "outputs": [
    {
     "data": {
      "image/png": "[encoded data removed]",
      "text/plain": [
       "<matplotlib.figure.Figure at 0xbf3610>"
      ]
     },
     "metadata": {},
     "output_type": "display_data"
    }
   ],
   "source": [
    "# let's visualize our boxplot\n",
    "plt.boxplot(raw_scores, vert=False)\n",
    "plt.xticks(xlocs, xlocs)\n",
    "plt.xlabel('Beer Ratings');"
   ]
  },
  {
   "cell_type": "markdown",
   "metadata": {},
   "source": [
    "The above boxplot visualizes the previous information regarding our `mean, quartiles`, and `outliers`. The relatively small box with the large whiskers show the concentration of the data in a small range (the `2.75-3.5 IQR`) while a sparse amount of data is spread outside the `IQR`, especially to the left. Last thing I want to do is view these two graphs matched up."
   ]
  },
  {
   "cell_type": "code",
   "execution_count": 54,
   "metadata": {},
   "outputs": [
    {
     "data": {
      "image/png": "[encoded data removed]",
      "text/plain": [
       "<matplotlib.figure.Figure at 0xcba3b0>"
      ]
     },
     "metadata": {},
     "output_type": "display_data"
    }
   ],
   "source": [
    "fig, axes = plt.subplots(2, 1, sharex=True)\n",
    "axes[0].hist(df.rating_score[df.rating_score.notnull()], bins=n_bins,\n",
    "             align='mid', rwidth=.75, normed=True)\n",
    "axes[0].set_xlim(0, 5)\n",
    "axes[0].set_xticks(np.linspace(0, 5, 11))\n",
    "axes[1].boxplot(raw_scores, vert=False)\n",
    "fig.suptitle('Comparing distribution to boxplot');"
   ]
  },
  {
   "cell_type": "markdown",
   "metadata": {},
   "source": [
    "<a id=\"section_2\"></a>"
   ]
  },
  {
   "cell_type": "markdown",
   "metadata": {},
   "source": [
    "# 2. Beers Drank Over Time"
   ]
  },
  {
   "cell_type": "markdown",
   "metadata": {},
   "source": [
    "<a id=\"section_2a\"></a>"
   ]
  },
  {
   "cell_type": "markdown",
   "metadata": {},
   "source": [
    "## a. The Statistics:\n",
    "\n",
    "The next round of statistics we'll look at is beers drank over time. We can group it up into periods like yearly, monthly, weekly, etc., as well as individual days. I'm most interested in looking at the averages over different time periods, as well as highs and lows. Much as before, I want to look at the similar numbers regarding `measures of central tendency` and `measures of dispersion`. Let's start with...\n",
    "\n",
    "### 1. Weekly Statistics"
   ]
  },
  {
   "cell_type": "code",
   "execution_count": 55,
   "metadata": {},
   "outputs": [
    {
     "name": "stdout",
     "output_type": "stream",
     "text": [
      "The average beers drank per week is 5.90 beers and the standard deviation is 5.11 beers.\n"
     ]
    }
   ],
   "source": [
    "# first off, let's check the average beers and standard deviation per week...\n",
    "avg_weekly = np.mean(df.week.value_counts())\n",
    "std_weekly = np.std(df.week.value_counts())\n",
    "print('The average beers drank per week is {:.2f} beers and the standard deviation is {:.2f} beers.'.format(\n",
    "    avg_weekly, std_weekly))"
   ]
  },
  {
   "cell_type": "markdown",
   "metadata": {},
   "source": [
    "But wait! Any good statistician would see problem with this. The above caluculation only includes months and weeks that I *have* drank beers. It has no way of inherently knowing there were weeks I didn't drink beers. So what I want a TRUE average over the entire 2+ year period? First let's see *how many* weeks I never drank a beer, and then recalulate."
   ]
  },
  {
   "cell_type": "code",
   "execution_count": 57,
   "metadata": {},
   "outputs": [
    {
     "name": "stdout",
     "output_type": "stream",
     "text": [
      "There were 39 weeks (out of 116 total) that I never drank a beer.\n"
     ]
    }
   ],
   "source": [
    "# how many weeks did I never drink a beer? (some sad weeks indeed)\n",
    "# start with compiling a dict that has each week starting from 0-max as keys, and the values as beers drank (or 0)\n",
    "week_counts = df.week.value_counts().sort_index()\n",
    "week_dict = dict.fromkeys(np.linspace(df.week.min(), df.week.max(), (df.week.max() - df.week.min() + 1), dtype=int), 0)\n",
    "for index, value in week_counts.iteritems():\n",
    "    week_dict[index] = value\n",
    "\n",
    "\n",
    "zero_beers = 0\n",
    "total_weeks = len(week_dict)\n",
    "for value in week_dict.values():\n",
    "    if not value:\n",
    "        zero_beers += 1\n",
    "        \n",
    "print('There were {} weeks (out of {} total) that I never drank a beer.'.format(zero_beers, total_weeks))"
   ]
  },
  {
   "cell_type": "code",
   "execution_count": 58,
   "metadata": {},
   "outputs": [
    {
     "name": "stdout",
     "output_type": "stream",
     "text": [
      "The true average weekly is 3.91 beers per week, with a standard deviation of 5.01 beers.\n"
     ]
    }
   ],
   "source": [
    "# now, let's recalculate the mean\n",
    "true_avg_weekly = (sum(week_dict.values()) / len(week_dict))\n",
    "true_std_weekly = np.std(list(week_dict.values()))\n",
    "print('The true average weekly is {:.2f} beers per week, with a standard deviation of {:.2f} beers.'.format(\n",
    "    true_avg_weekly, true_std_weekly))"
   ]
  },
  {
   "cell_type": "markdown",
   "metadata": {},
   "source": [
    "As we can see, when we add those 39 beer-less weeks into our `mean` calculation it drives the average down by `5.90 - 3.91 = 1.99` thanks to the larger denominator of total weeks.\n",
    "\n",
    "Last weekly stat I want is the week that I drank the *most beers total*."
   ]
  },
  {
   "cell_type": "code",
   "execution_count": 111,
   "metadata": {},
   "outputs": [
    {
     "name": "stdout",
     "output_type": "stream",
     "text": [
      "I drank the most beers during the week of November 24, 2015, with 26 total beers.\n"
     ]
    }
   ],
   "source": [
    "# the week with the most check-ins; first, make sure there's only one week with max\n",
    "week_max_list = df.week.value_counts()\n",
    "if week_max_list.values[0] != week_max_list.values[1]:\n",
    "    week_max_loc = df.created_at[df.week == week_max_list.index[0]].iloc[0]\n",
    "    week_string = week_max_loc.strftime('%B %d, %Y')\n",
    "    week_max = week_max_list.values[0]\n",
    "    print('I drank the most beers during the week of {}, with {} total beers.'.format(\n",
    "    week_string, week_max))\n",
    "else:\n",
    "    print('There were multiple max weeks! To be fixed...')"
   ]
  },
  {
   "cell_type": "markdown",
   "metadata": {},
   "source": [
    "### Summary of Weekly Statistics\n",
    "\n",
    "* So we've seen that throughout the 111 weeks I've been using Untappd, I've checked in at least one beer 76 weeks, with 35 weeks missing any sort of activity. \n",
    "* In those 111 weeks, the `mean` beers drank was `4.09` beers per week with a `std` of `5.03` beers. \n",
    "* Thus, from the knowledge of the z-table/standard normal distribution curve, we can assume that 68% of weeks I had between `-1 std` and `+1 std` of beers, or anything below `9.12` total beers. And the value of `-2 std` to `+2 std` should contain 95% of our values, which is roughly anything less than `14.15` beers per week.\n",
    "* If we look at only the 76 weeks I drank a beer, the `mean` beers drank those weeks rises to `5.97` beers per week, and the `std` roughly stays the same around `5.08` beers.\n",
    "* During the week of `November 24th, 2015`, I drank a total of `27` beers, which was my all-time high."
   ]
  },
  {
   "cell_type": "markdown",
   "metadata": {},
   "source": [
    "### 2. Monthly Statistics\n",
    "Now let's look at some of the same stats, but per month!"
   ]
  },
  {
   "cell_type": "code",
   "execution_count": 109,
   "metadata": {},
   "outputs": [
    {
     "name": "stdout",
     "output_type": "stream",
     "text": [
      "The average beers drank per month is 17.46 beers and the standard deviation is 12.70 beers.\n"
     ]
    }
   ],
   "source": [
    "# I'm assuming that - unlike weekly - I've never gone a full month without drinking at least one beer\n",
    "avg_monthly = np.mean(df.month.value_counts())\n",
    "std_monthly = np.std(df.month.value_counts())\n",
    "print('The average beers drank per month is {:.2f} beers and the standard deviation is {:.2f} beers.'.format(avg_monthly, std_monthly))"
   ]
  },
  {
   "cell_type": "code",
   "execution_count": 110,
   "metadata": {},
   "outputs": [
    {
     "name": "stdout",
     "output_type": "stream",
     "text": [
      "I drank the most beers during the month of July 2017 with 52 total beers.\n"
     ]
    }
   ],
   "source": [
    "# and finally, the month with the most check-ins\n",
    "month_max_loc = df.month.value_counts().sort_values(ascending=False).index[0]\n",
    "month_max = df.month.value_counts().sort_values(ascending=False).values[0]\n",
    "\n",
    "# same as above, must format month string\n",
    "month_max_loc = df.created_at[df.month == month_max_loc].iloc[0]\n",
    "month_string = month_max_loc.strftime('%B %Y')\n",
    "\n",
    "print('I drank the most beers during the month of {} with {} total beers.'.format(month_string, month_max))"
   ]
  },
  {
   "cell_type": "markdown",
   "metadata": {},
   "source": [
    "### Summary of Monthly Statistics\n",
    "\n",
    "* Each month had an `mean` of `17.46` beers and a `std` of `12.37` beers. Again, computing via the z-values, 68% of all months fall within the `5.09 - 29.83` range, and 95% of all months will have less than 42.2 check-ins.\n",
    "* Our max month was `November, 2015`, with `48` beers total checked-in."
   ]
  },
  {
   "cell_type": "markdown",
   "metadata": {},
   "source": [
    "### 3. Misc. Time Stats"
   ]
  },
  {
   "cell_type": "code",
   "execution_count": null,
   "metadata": {},
   "outputs": [],
   "source": [
    "# let's look at the day I checked in the most beers\n",
    "max_day = df.created_at.dt.date.value_counts().sort_values(ascending=False).index[0]\n",
    "max_day_beers = df.created_at.dt.date.value_counts().sort_values(ascending=False).values[0]\n",
    "max_day_string = max_day.strftime('%B %d, %Y')\n",
    "\n",
    "print('On {} I drank a whopping {} beers! Let\\'s hope they were just samplers!'.format(max_day_string, max_day_beers))"
   ]
  },
  {
   "cell_type": "code",
   "execution_count": null,
   "metadata": {},
   "outputs": [],
   "source": [
    "# how many days have one beer versus none?\n",
    "days_w_beer = len(df.created_at.dt.date.value_counts())\n",
    "days_total = df.created_at.dt.date.max() - df.created_at.dt.date.min()\n",
    "days_wo_beer = days_total.days - days_w_beer # currently unused\n",
    "print('Out of a total {} days using Untappd, I have had at least one beer {} days.'.format(\n",
    "                                            days_total.days, days_w_beer))"
   ]
  },
  {
   "cell_type": "markdown",
   "metadata": {},
   "source": [
    "<a id=\"section_2b\"></a>"
   ]
  },
  {
   "cell_type": "markdown",
   "metadata": {},
   "source": [
    "## b. The Visualization\n",
    "\n",
    "Let's try creating a graph of beers drank *per week* since I started using Untappd. I'm not sure how this will look, but it's worth a shot!"
   ]
  },
  {
   "cell_type": "code",
   "execution_count": 112,
   "metadata": {},
   "outputs": [
    {
     "data": {
      "image/png": "[encoded data removed]",
      "text/plain": [
       "<matplotlib.figure.Figure at 0xee38f0>"
      ]
     },
     "metadata": {},
     "output_type": "display_data"
    }
   ],
   "source": [
    "# create the xticks; because so many points exist on the X axis, I'll only label the start of each year for simplicity\n",
    "### later, remove hard-coded ticks and make it smart - create separate function for this to reuse\n",
    "xlocs_weeks = [0, 14, 38, 65, 90]\n",
    "xlabels_weeks = ['October 2015', 'January 2016', 'July 2016', 'January 2016',  'July 2017']\n",
    "\n",
    "\n",
    "# now let's create the plot with this dict\n",
    "plt.figure(figsize=(15, 5))\n",
    "plt.plot(list(week_dict.keys()), list(week_dict.values()), '-o')\n",
    "plt.xlim(df.week.min() - 1, df.week.max() + 1)\n",
    "plt.ylim(-1, max(week_dict.values()) + 3)\n",
    "plt.title('Beers drank per week')\n",
    "plt.xlabel('Weeks')\n",
    "plt.ylabel('Beers drank per week')\n",
    "plt.yticks(np.linspace(0, 30, 7)) # hardcoded\n",
    "plt.xticks(xlocs_weeks, xlabels_weeks);"
   ]
  },
  {
   "cell_type": "markdown",
   "metadata": {},
   "source": [
    "We can see now the graph starts out with some high values, as I was enrolled in a beer class at university when I started using Untappd. Other high points are the times when I've been home visiting my family - Christmastime, 2016, and summer 2017.\n",
    "\n",
    "However, this graph is a bit cluttered and isn't super easy to read, so next up let's try to create bigger \"bins\" and look at beers drank per *month* instead."
   ]
  },
  {
   "cell_type": "code",
   "execution_count": 113,
   "metadata": {},
   "outputs": [],
   "source": [
    "# let's create the dataset of beers drank per month and sort it\n",
    "month_counts = df.month.value_counts().sort_index()"
   ]
  },
  {
   "cell_type": "code",
   "execution_count": 115,
   "metadata": {},
   "outputs": [
    {
     "data": {
      "image/png": "[encoded data removed]",
      "text/plain": [
       "<matplotlib.figure.Figure at 0xce7730>"
      ]
     },
     "metadata": {},
     "output_type": "display_data"
    }
   ],
   "source": [
    "# create the xticks locations and labels\n",
    "xlocs_months = np.linspace(10, 34, 7, dtype=int) #hardcoded\n",
    "xlabels_months = []\n",
    "for month_int in xlocs_months:\n",
    "    xlabels_months.append(datetime(1900, ((month_int - 1) % 12 + 1), 1).strftime('%B') + \n",
    "                        ' ' + datetime((df.created_at.dt.year.min() + (1 * (month_int -1) // 12)), 1, 1).strftime('%Y'))\n",
    "\n",
    "# now, make the plot\n",
    "plt.figure(figsize=(15,5))\n",
    "plt.plot(month_counts.index, month_counts.values, '-o')\n",
    "plt.xticks(xlocs_months, xlabels_months)\n",
    "plt.title('Beers drank per month')\n",
    "plt.xlabel('Month')\n",
    "plt.ylabel('Total beers drank')\n",
    "plt.ylim(-1, 55) #hardcoded\n",
    "plt.yticks(np.linspace(0, 50, 11)); #hardcoded"
   ]
  },
  {
   "cell_type": "markdown",
   "metadata": {},
   "source": [
    "That looks a lot better! As I mentioned earlier, it's easy to see the first few months were among my highest ever. That's mainly due the beer history class I was taking in university, where we visited lots of breweries and had lots of beer samplings. And it's even easier to see my three other peaks are centered around the summers of 2016/2017 and Christmas 2016, while I tended to not drink lots of beers in months I was working or busy in school."
   ]
  },
  {
   "cell_type": "markdown",
   "metadata": {},
   "source": [
    "<a id=\"section_3\"></a>"
   ]
  },
  {
   "cell_type": "markdown",
   "metadata": {},
   "source": [
    "# 3. The Best and Worst Beer Styles\n",
    "\n",
    "Next up, I want to analyze the different styles of beers I drink. Questions I want to answer include the following:\n",
    "\n",
    "* Which styles do I drink the most?\n",
    "* What's the distribution of all the beer styles I've ever drank?\n",
    "* Which styles do I rate the highest and lowest overall?\n",
    "\n",
    "I'll be primarily using the 'simple_style' category I created in Part 1: Data Munging."
   ]
  },
  {
   "cell_type": "code",
   "execution_count": 116,
   "metadata": {},
   "outputs": [
    {
     "data": {
      "text/plain": [
       "simple_style\n",
       "American IPA    102\n",
       "Pale Ale         57\n",
       "Sour             26\n",
       "Imperial IPA     20\n",
       "Cider            17\n",
       "dtype: int64"
      ]
     },
     "execution_count": 116,
     "metadata": {},
     "output_type": "execute_result"
    }
   ],
   "source": [
    "# first, let's check the 5 styles that have the most checkins\n",
    "styles = df.groupby('simple_style').size().sort_values(ascending=False)\n",
    "styles.head(5)"
   ]
  },
  {
   "cell_type": "markdown",
   "metadata": {},
   "source": [
    "I tried originally making a pie chart but it was way too cluttered - I've tried around 90 styles of beers, and many styles had only a handful of checkins. So I've plotted a bargraph that shows only my top 20 styles. Clearly my top 2 styles dominate compared to the rest!"
   ]
  },
  {
   "cell_type": "code",
   "execution_count": 117,
   "metadata": {},
   "outputs": [
    {
     "data": {
      "image/png": "[encoded data removed]",
      "text/plain": [
       "<matplotlib.figure.Figure at 0xc95370>"
      ]
     },
     "metadata": {},
     "output_type": "display_data"
    }
   ],
   "source": [
    "df.simple_style.value_counts()[:20].plot(kind='barh');"
   ]
  },
  {
   "cell_type": "markdown",
   "metadata": {},
   "source": [
    "What if I pull just the top 4 syles (`American IPA, Pale Ale, Sour, Imperial IPA`) and check the individual distributions of ratings? I'll have to normalize the graphs so they're comparable."
   ]
  },
  {
   "cell_type": "code",
   "execution_count": 128,
   "metadata": {},
   "outputs": [
    {
     "data": {
      "image/png": "[encoded data removed]",
      "text/plain": [
       "<matplotlib.figure.Figure at 0x1123c30>"
      ]
     },
     "metadata": {},
     "output_type": "display_data"
    }
   ],
   "source": [
    "# first, pull relevant data from our dataframe and delete Null values\n",
    "ipa_scores = df.rating_score[df.simple_style == 'American IPA']\n",
    "ipa_scores = ipa_scores[ipa_scores.notnull()]\n",
    "pale_scores = df.rating_score[df.simple_style == 'Pale Ale']\n",
    "pale_scores = pale_scores[pale_scores.notnull()]\n",
    "sour_scores = df.rating_score[df.simple_style == 'Sour']\n",
    "sour_scores = sour_scores[sour_scores.notnull()]\n",
    "imp_scores = df.rating_score[df.simple_style == 'Imperial IPA']\n",
    "imp_scores = imp_scores[imp_scores.notnull()]\n",
    "\n",
    "\n",
    "# now create the 4 subplots and adjust\n",
    "# i dont want sharex=True because I want to see the xticks below each graph\n",
    "xlocs = np.linspace(0, 5, 6)\n",
    "fig, axes = plt.subplots(2, 2,  sharey='all', figsize=(10, 10))\n",
    "axes[0, 0].hist(ipa_scores, normed=True, bins=n_bins, align='mid', rwidth=.75)\n",
    "axes[0, 0].set_xlim(0, 5)\n",
    "axes[0, 0].set_xticks(xlocs)\n",
    "axes[0, 0].set_title('American IPA Ratings')\n",
    "axes[0, 1].hist(pale_scores, normed=True, bins=n_bins, align='mid', rwidth=.75)\n",
    "axes[0, 1].set_xticks(xlocs)\n",
    "axes[0, 1].set_title('Pale Ale Ratings')\n",
    "axes[1, 0].hist(sour_scores, normed=True, bins=n_bins, align='mid', rwidth=.75)\n",
    "axes[1, 0].set_xticks(xlocs)\n",
    "axes[1, 0].set_title('Sour Ratings')\n",
    "axes[1, 1].hist(imp_scores, normed=True, bins=n_bins, align='mid', rwidth=.75)\n",
    "axes[1, 1].set_xticks(xlocs)\n",
    "axes[1, 1].set_title('Imperial IPA Ratings')\n",
    "fig.subplots_adjust(hspace=0.5);"
   ]
  },
  {
   "cell_type": "markdown",
   "metadata": {},
   "source": [
    "So far, we've only seen which beer styles I drink the most. What about the styles with the best average ratings?\n",
    "\n",
    "When looking at the styles with the highest and lowest average ratings, I've got to filter them to include a minimum number of check-ins, otherwise a style that I've only drank once or twice could come off as the winner (or loser) with an unfair sample size. For example, left unfiltered, this happens:\n",
    "\n",
    "* my top style is `Bière de Champagne`, which I've had exactly once (although to be fair, it was *really* good)\n",
    "\n",
    "Thus, I need to choose a cutoff point. It's really arbitrary, but I'm choosing 5 beers. A round number, I figure by the time I've had 5 different beers of `X` style I can fairly determing if I like it enough. I'm sure theres a formula out there in the statistical universe to calculate what the cutoff point should be with a given sample size, but I'm not sure what that formula is! So we'll do 5."
   ]
  },
  {
   "cell_type": "code",
   "execution_count": 129,
   "metadata": {},
   "outputs": [],
   "source": [
    "# best/worst styles, minimum of 5 beers drank\n",
    "filtered_styles = df.groupby('simple_style').filter(lambda x: x.simple_style.value_counts() >= 5)\n",
    "style_bw = filtered_styles.groupby('simple_style').rating_score.mean().sort_values(ascending=False)"
   ]
  },
  {
   "cell_type": "code",
   "execution_count": 132,
   "metadata": {},
   "outputs": [
    {
     "data": {
      "text/html": [
       "<div>\n",
       "<style>\n",
       "    .dataframe thead tr:only-child th {\n",
       "        text-align: right;\n",
       "    }\n",
       "\n",
       "    .dataframe thead th {\n",
       "        text-align: left;\n",
       "    }\n",
       "\n",
       "    .dataframe tbody tr th {\n",
       "        vertical-align: top;\n",
       "    }\n",
       "</style>\n",
       "<table border=\"1\" class=\"dataframe\">\n",
       "  <thead>\n",
       "    <tr style=\"text-align: right;\">\n",
       "      <th></th>\n",
       "      <th>beer_name</th>\n",
       "      <th>brewery_name</th>\n",
       "      <th>beer_type</th>\n",
       "      <th>simple_style</th>\n",
       "      <th>beer_abv</th>\n",
       "      <th>beer_ibu</th>\n",
       "      <th>venue_name</th>\n",
       "      <th>venue_city</th>\n",
       "      <th>venue_state</th>\n",
       "      <th>venue_country</th>\n",
       "      <th>venue_lat</th>\n",
       "      <th>venue_lng</th>\n",
       "      <th>rating_score</th>\n",
       "      <th>created_at</th>\n",
       "      <th>brewery_country</th>\n",
       "      <th>brewery_city</th>\n",
       "      <th>brewery_state</th>\n",
       "      <th>week</th>\n",
       "      <th>month</th>\n",
       "    </tr>\n",
       "  </thead>\n",
       "  <tbody>\n",
       "    <tr>\n",
       "      <th>40</th>\n",
       "      <td>Speed Bump</td>\n",
       "      <td>Fifty West Brewing Company</td>\n",
       "      <td>Kölsch</td>\n",
       "      <td>Kölsch</td>\n",
       "      <td>5.25</td>\n",
       "      <td>25</td>\n",
       "      <td>The Brass Tap</td>\n",
       "      <td>Cincinnati</td>\n",
       "      <td>OH</td>\n",
       "      <td>United States</td>\n",
       "      <td>39.1284</td>\n",
       "      <td>-84.51730</td>\n",
       "      <td>2.25</td>\n",
       "      <td>2015-11-03 16:12:26</td>\n",
       "      <td>United States</td>\n",
       "      <td>Cincinnati</td>\n",
       "      <td>OH</td>\n",
       "      <td>4</td>\n",
       "      <td>11</td>\n",
       "    </tr>\n",
       "    <tr>\n",
       "      <th>57</th>\n",
       "      <td>Vacation Kölsch®</td>\n",
       "      <td>Daredevil Brewing Co</td>\n",
       "      <td>Kölsch</td>\n",
       "      <td>Kölsch</td>\n",
       "      <td>5.00</td>\n",
       "      <td>20</td>\n",
       "      <td>Daredevil Brewing Co.</td>\n",
       "      <td>Speedway</td>\n",
       "      <td>IN</td>\n",
       "      <td>United States</td>\n",
       "      <td>39.7827</td>\n",
       "      <td>-86.24070</td>\n",
       "      <td>3.25</td>\n",
       "      <td>2015-11-27 15:24:38</td>\n",
       "      <td>United States</td>\n",
       "      <td>Speedway</td>\n",
       "      <td>IN</td>\n",
       "      <td>7</td>\n",
       "      <td>11</td>\n",
       "    </tr>\n",
       "    <tr>\n",
       "      <th>95</th>\n",
       "      <td>Lift</td>\n",
       "      <td>MadTree Brewing Company</td>\n",
       "      <td>Kölsch</td>\n",
       "      <td>Kölsch</td>\n",
       "      <td>4.70</td>\n",
       "      <td>11</td>\n",
       "      <td>Views on Vine</td>\n",
       "      <td>Clifton</td>\n",
       "      <td>OH</td>\n",
       "      <td>United States</td>\n",
       "      <td>39.1325</td>\n",
       "      <td>-84.50960</td>\n",
       "      <td>3.50</td>\n",
       "      <td>2015-12-17 23:59:47</td>\n",
       "      <td>United States</td>\n",
       "      <td>Cincinnati</td>\n",
       "      <td>OH</td>\n",
       "      <td>10</td>\n",
       "      <td>12</td>\n",
       "    </tr>\n",
       "    <tr>\n",
       "      <th>213</th>\n",
       "      <td>Gaffel Kölsch</td>\n",
       "      <td>Privatbrauerei Gaffel Becker</td>\n",
       "      <td>Kölsch</td>\n",
       "      <td>Kölsch</td>\n",
       "      <td>4.80</td>\n",
       "      <td>0</td>\n",
       "      <td>Altstadt</td>\n",
       "      <td>Köln</td>\n",
       "      <td>Nordrhein-Westfalen</td>\n",
       "      <td>Deutschland</td>\n",
       "      <td>50.9392</td>\n",
       "      <td>6.95704</td>\n",
       "      <td>3.75</td>\n",
       "      <td>2016-08-25 14:36:38</td>\n",
       "      <td>Germany</td>\n",
       "      <td>Köln</td>\n",
       "      <td>Köln</td>\n",
       "      <td>45</td>\n",
       "      <td>20</td>\n",
       "    </tr>\n",
       "    <tr>\n",
       "      <th>451</th>\n",
       "      <td>Mangö</td>\n",
       "      <td>Clown Shoes</td>\n",
       "      <td>Kölsch</td>\n",
       "      <td>Kölsch</td>\n",
       "      <td>6.00</td>\n",
       "      <td>25</td>\n",
       "      <td>Taproom</td>\n",
       "      <td>Madrid</td>\n",
       "      <td>Madrid</td>\n",
       "      <td>España</td>\n",
       "      <td>40.4362</td>\n",
       "      <td>-3.71304</td>\n",
       "      <td>4.50</td>\n",
       "      <td>2017-11-24 20:12:29</td>\n",
       "      <td>United States</td>\n",
       "      <td>Ipswich</td>\n",
       "      <td>MA</td>\n",
       "      <td>110</td>\n",
       "      <td>35</td>\n",
       "    </tr>\n",
       "  </tbody>\n",
       "</table>\n",
       "</div>"
      ],
      "text/plain": [
       "            beer_name                  brewery_name beer_type simple_style  \\\n",
       "40         Speed Bump    Fifty West Brewing Company    Kölsch       Kölsch   \n",
       "57   Vacation Kölsch®          Daredevil Brewing Co    Kölsch       Kölsch   \n",
       "95               Lift       MadTree Brewing Company    Kölsch       Kölsch   \n",
       "213     Gaffel Kölsch  Privatbrauerei Gaffel Becker    Kölsch       Kölsch   \n",
       "451             Mangö                   Clown Shoes    Kölsch       Kölsch   \n",
       "\n",
       "     beer_abv  beer_ibu             venue_name  venue_city  \\\n",
       "40       5.25        25          The Brass Tap  Cincinnati   \n",
       "57       5.00        20  Daredevil Brewing Co.    Speedway   \n",
       "95       4.70        11          Views on Vine     Clifton   \n",
       "213      4.80         0               Altstadt        Köln   \n",
       "451      6.00        25                Taproom      Madrid   \n",
       "\n",
       "             venue_state  venue_country  venue_lat  venue_lng  rating_score  \\\n",
       "40                    OH  United States    39.1284  -84.51730          2.25   \n",
       "57                    IN  United States    39.7827  -86.24070          3.25   \n",
       "95                    OH  United States    39.1325  -84.50960          3.50   \n",
       "213  Nordrhein-Westfalen    Deutschland    50.9392    6.95704          3.75   \n",
       "451               Madrid         España    40.4362   -3.71304          4.50   \n",
       "\n",
       "             created_at brewery_country brewery_city brewery_state  week  \\\n",
       "40  2015-11-03 16:12:26   United States   Cincinnati            OH     4   \n",
       "57  2015-11-27 15:24:38   United States     Speedway            IN     7   \n",
       "95  2015-12-17 23:59:47   United States   Cincinnati            OH    10   \n",
       "213 2016-08-25 14:36:38         Germany         Köln          Köln    45   \n",
       "451 2017-11-24 20:12:29   United States      Ipswich            MA   110   \n",
       "\n",
       "     month  \n",
       "40      11  \n",
       "57      11  \n",
       "95      12  \n",
       "213     20  \n",
       "451     35  "
      ]
     },
     "execution_count": 132,
     "metadata": {},
     "output_type": "execute_result"
    }
   ],
   "source": [
    "df[df.simple_style == 'Kölsch']"
   ]
  },
  {
   "cell_type": "code",
   "execution_count": 130,
   "metadata": {},
   "outputs": [
    {
     "data": {
      "text/plain": [
       "simple_style\n",
       "Kölsch                       3.450000\n",
       "American IPA                 3.381313\n",
       "Pale Ale                     3.368421\n",
       "Pale Wheat Ale - American    3.333333\n",
       "Imperial IPA                 3.275000\n",
       "Name: rating_score, dtype: float64"
      ]
     },
     "execution_count": 130,
     "metadata": {},
     "output_type": "execute_result"
    }
   ],
   "source": [
    "# top 3 styles, minimum of x beers drank\n",
    "style_bw.head(5)"
   ]
  },
  {
   "cell_type": "code",
   "execution_count": 131,
   "metadata": {},
   "outputs": [
    {
     "data": {
      "text/plain": [
       "simple_style\n",
       "Stout                             2.75\n",
       "Lager - Pale                      2.65\n",
       "Märzen                            2.60\n",
       "Lager - North American Adjunct    1.80\n",
       "Lager - American Light            0.95\n",
       "Name: rating_score, dtype: float64"
      ]
     },
     "execution_count": 131,
     "metadata": {},
     "output_type": "execute_result"
    }
   ],
   "source": [
    "# worst 3 styles, average rating, minimum of x beers drank\n",
    "style_bw.tail(5)"
   ]
  },
  {
   "cell_type": "markdown",
   "metadata": {},
   "source": [
    "## Summary\n",
    "\n",
    "So what did we just see?\n",
    "\n",
    "* We first saw that I've drank `American IPAs` and `Pale Ales` most, and by a significant margin. After those two, the styles that rounded out the top 5 most drank styles were `Sours`, `Imperial IPAs`, and `Ciders`.\n",
    "* Looking at the highest-rated styles (min. 5 beers), `Kölschs` led the pack. `American IPAs`, `Pale Ales`, `Pale Wheat Ales`, and `Imperial IPas` rounded out the rest of the top 5.\n",
    "* The worst styles on average were `Stouts`, `Pale Lagers`, `Märzens`, and `American Lagers`.\n",
    "\n",
    "For the most part, this isn't super surprising to me. Three of my five most drank styles were also in the top 5 ranked, which shows I tend to stick to styles I like. On the other end of the spectrum, darker beers like `Stouts` I don't usually like, so I'll stay away from them picking beers. And also unsurprisingly, the worst 2 styles were the traditional \"garbage beer\" styles that include Budweiser, PBR, and the like.\n",
    "\n",
    "The two surprising facts were:\n",
    "* how high on average I rate `Imperial IPAs`. I tend to not like them (at least in my mind) as they're usually very hoppy, but apparently that's not been the case!\n",
    "* `Kölsch` winning the highest-rated style. Granted, I've only had *exactly* five, which was our cutoff point, and one of those beers is tied for my highest-rated ever, as we will see soon."
   ]
  },
  {
   "cell_type": "markdown",
   "metadata": {},
   "source": [
    "<a id=\"section_4\"></a>"
   ]
  },
  {
   "cell_type": "markdown",
   "metadata": {},
   "source": [
    "## 4. Breweries and Beers: Miscellaneous Statistics\n",
    "\n",
    "Next information I'm interested in is about breweries and individual beers:\n",
    "\n",
    "* Which breweries have I drank the most (unique) beers from?\n",
    "* Which breweries have the highest and lowest average ratings?\n",
    "* Which breweries have the biggest range between their highest and lowest ratings, and which are the most consistent?\n",
    "* Which beers have the highest rating? Which have the lowest?\n",
    "\n",
    "Again, like the previous section, I need to choose a cutoff for breweries. I arbitrarily chose 3, as 5 knocked out all the breweries except 20 or so, which seemed too small a sample size."
   ]
  },
  {
   "cell_type": "code",
   "execution_count": 133,
   "metadata": {},
   "outputs": [
    {
     "data": {
      "text/plain": [
       "MadTree Brewing Company     16\n",
       "Sun King Brewing Company    16\n",
       "Upland Brewing Company      11\n",
       "Rhinegeist Brewery          11\n",
       "The Tap Brewery             11\n",
       "Name: brewery_name, dtype: int64"
      ]
     },
     "execution_count": 133,
     "metadata": {},
     "output_type": "execute_result"
    }
   ],
   "source": [
    "# top 5 breweries by total beers drank\n",
    "df.brewery_name.value_counts().head(5)"
   ]
  },
  {
   "cell_type": "code",
   "execution_count": 134,
   "metadata": {},
   "outputs": [],
   "source": [
    "# best/worst breweries, min x beers\n",
    "filtered_brewery = df.groupby('brewery_name').filter(lambda x: x.brewery_name.value_counts() >= 3)\n",
    "brewery_bw = filtered_brewery.groupby('brewery_name').rating_score.mean().sort_values(ascending=False)"
   ]
  },
  {
   "cell_type": "code",
   "execution_count": 135,
   "metadata": {},
   "outputs": [
    {
     "data": {
      "text/plain": [
       "brewery_name\n",
       "To Øl                                     3.6875\n",
       "Taft's Brewing Company                    3.6250\n",
       "3 Floyds Brewing Company                  3.5625\n",
       "Cervezas La Virgen                        3.5625\n",
       "Against the Grain Brewery & Smokehouse    3.5000\n",
       "Name: rating_score, dtype: float64"
      ]
     },
     "execution_count": 135,
     "metadata": {},
     "output_type": "execute_result"
    }
   ],
   "source": [
    "# top 5 breweries\n",
    "brewery_bw.head(5)"
   ]
  },
  {
   "cell_type": "code",
   "execution_count": 136,
   "metadata": {},
   "outputs": [
    {
     "data": {
      "text/plain": [
       "brewery_name\n",
       "Mt. Carmel Brewing Company     2.750000\n",
       "Angry Orchard Cider Company    2.718750\n",
       "Founders Brewing Co.           2.687500\n",
       "Great Flood Brewing Company    2.687500\n",
       "Fifty West Brewing Company     2.678571\n",
       "Grupo Damm                     2.333333\n",
       "Grupo Mahou-San Miguel         1.937500\n",
       "Anheuser-Busch                 0.937500\n",
       "Name: rating_score, dtype: float64"
      ]
     },
     "execution_count": 136,
     "metadata": {},
     "output_type": "execute_result"
    }
   ],
   "source": [
    "# worst 5 breweries - expanded to ignore the \"garbage beer\" breweries at the very bottom\n",
    "brewery_bw.tail(8)"
   ]
  },
  {
   "cell_type": "code",
   "execution_count": 137,
   "metadata": {},
   "outputs": [
    {
     "data": {
      "text/html": [
       "<div>\n",
       "<style>\n",
       "    .dataframe thead tr:only-child th {\n",
       "        text-align: right;\n",
       "    }\n",
       "\n",
       "    .dataframe thead th {\n",
       "        text-align: left;\n",
       "    }\n",
       "\n",
       "    .dataframe tbody tr th {\n",
       "        vertical-align: top;\n",
       "    }\n",
       "</style>\n",
       "<table border=\"1\" class=\"dataframe\">\n",
       "  <thead>\n",
       "    <tr style=\"text-align: right;\">\n",
       "      <th></th>\n",
       "      <th>beer_name</th>\n",
       "      <th>brewery_name</th>\n",
       "      <th>beer_type</th>\n",
       "      <th>simple_style</th>\n",
       "      <th>beer_abv</th>\n",
       "      <th>beer_ibu</th>\n",
       "      <th>venue_name</th>\n",
       "      <th>venue_city</th>\n",
       "      <th>venue_state</th>\n",
       "      <th>venue_country</th>\n",
       "      <th>venue_lat</th>\n",
       "      <th>venue_lng</th>\n",
       "      <th>rating_score</th>\n",
       "      <th>created_at</th>\n",
       "      <th>brewery_country</th>\n",
       "      <th>brewery_city</th>\n",
       "      <th>brewery_state</th>\n",
       "      <th>week</th>\n",
       "      <th>month</th>\n",
       "    </tr>\n",
       "  </thead>\n",
       "  <tbody>\n",
       "    <tr>\n",
       "      <th>280</th>\n",
       "      <td>Dangerously Close To Stupid</td>\n",
       "      <td>To Øl</td>\n",
       "      <td>IPA - Imperial / Double</td>\n",
       "      <td>Imperial IPA</td>\n",
       "      <td>9.3</td>\n",
       "      <td>100</td>\n",
       "      <td>Taproom</td>\n",
       "      <td>Madrid</td>\n",
       "      <td>Madrid</td>\n",
       "      <td>España</td>\n",
       "      <td>40.4362</td>\n",
       "      <td>-3.71304</td>\n",
       "      <td>4.25</td>\n",
       "      <td>2017-02-07 22:24:55</td>\n",
       "      <td>Denmark</td>\n",
       "      <td>København N</td>\n",
       "      <td>Region Hovedstaden</td>\n",
       "      <td>69</td>\n",
       "      <td>26</td>\n",
       "    </tr>\n",
       "    <tr>\n",
       "      <th>299</th>\n",
       "      <td>Shock Series: !!PA Citra &amp; Galaxy</td>\n",
       "      <td>To Øl</td>\n",
       "      <td>IPA - Imperial / Double</td>\n",
       "      <td>Imperial IPA</td>\n",
       "      <td>9.0</td>\n",
       "      <td>0</td>\n",
       "      <td>Irreale</td>\n",
       "      <td>Madrid</td>\n",
       "      <td>Madrid</td>\n",
       "      <td>España</td>\n",
       "      <td>40.4288</td>\n",
       "      <td>-3.70456</td>\n",
       "      <td>3.25</td>\n",
       "      <td>2017-03-23 22:19:47</td>\n",
       "      <td>Denmark</td>\n",
       "      <td>København N</td>\n",
       "      <td>Region Hovedstaden</td>\n",
       "      <td>75</td>\n",
       "      <td>27</td>\n",
       "    </tr>\n",
       "    <tr>\n",
       "      <th>302</th>\n",
       "      <td>Shock Series: !PA Equinox</td>\n",
       "      <td>To Øl</td>\n",
       "      <td>IPA - American</td>\n",
       "      <td>American IPA</td>\n",
       "      <td>7.0</td>\n",
       "      <td>0</td>\n",
       "      <td>Taproom</td>\n",
       "      <td>Madrid</td>\n",
       "      <td>Madrid</td>\n",
       "      <td>España</td>\n",
       "      <td>40.4362</td>\n",
       "      <td>-3.71304</td>\n",
       "      <td>3.00</td>\n",
       "      <td>2017-03-28 23:08:20</td>\n",
       "      <td>Denmark</td>\n",
       "      <td>København N</td>\n",
       "      <td>Region Hovedstaden</td>\n",
       "      <td>76</td>\n",
       "      <td>27</td>\n",
       "    </tr>\n",
       "    <tr>\n",
       "      <th>306</th>\n",
       "      <td>Surt Til Hibiscus &amp; Cranberry</td>\n",
       "      <td>To Øl</td>\n",
       "      <td>Sour - Ale</td>\n",
       "      <td>Sour</td>\n",
       "      <td>5.0</td>\n",
       "      <td>0</td>\n",
       "      <td>Taproom</td>\n",
       "      <td>Madrid</td>\n",
       "      <td>Madrid</td>\n",
       "      <td>España</td>\n",
       "      <td>40.4362</td>\n",
       "      <td>-3.71304</td>\n",
       "      <td>4.25</td>\n",
       "      <td>2017-04-06 23:58:30</td>\n",
       "      <td>Denmark</td>\n",
       "      <td>København N</td>\n",
       "      <td>Region Hovedstaden</td>\n",
       "      <td>77</td>\n",
       "      <td>28</td>\n",
       "    </tr>\n",
       "  </tbody>\n",
       "</table>\n",
       "</div>"
      ],
      "text/plain": [
       "                             beer_name brewery_name                beer_type  \\\n",
       "280        Dangerously Close To Stupid        To Øl  IPA - Imperial / Double   \n",
       "299  Shock Series: !!PA Citra & Galaxy        To Øl  IPA - Imperial / Double   \n",
       "302          Shock Series: !PA Equinox        To Øl           IPA - American   \n",
       "306      Surt Til Hibiscus & Cranberry        To Øl               Sour - Ale   \n",
       "\n",
       "     simple_style  beer_abv  beer_ibu venue_name venue_city venue_state  \\\n",
       "280  Imperial IPA       9.3       100    Taproom     Madrid      Madrid   \n",
       "299  Imperial IPA       9.0         0    Irreale     Madrid      Madrid   \n",
       "302  American IPA       7.0         0    Taproom     Madrid      Madrid   \n",
       "306          Sour       5.0         0    Taproom     Madrid      Madrid   \n",
       "\n",
       "    venue_country  venue_lat  venue_lng  rating_score          created_at  \\\n",
       "280        España    40.4362   -3.71304          4.25 2017-02-07 22:24:55   \n",
       "299        España    40.4288   -3.70456          3.25 2017-03-23 22:19:47   \n",
       "302        España    40.4362   -3.71304          3.00 2017-03-28 23:08:20   \n",
       "306        España    40.4362   -3.71304          4.25 2017-04-06 23:58:30   \n",
       "\n",
       "    brewery_country brewery_city       brewery_state  week  month  \n",
       "280         Denmark  København N  Region Hovedstaden    69     26  \n",
       "299         Denmark  København N  Region Hovedstaden    75     27  \n",
       "302         Denmark  København N  Region Hovedstaden    76     27  \n",
       "306         Denmark  København N  Region Hovedstaden    77     28  "
      ]
     },
     "execution_count": 137,
     "metadata": {},
     "output_type": "execute_result"
    }
   ],
   "source": [
    "# what beers have I drank from To Øl? I can't remember\n",
    "df[df.brewery_name == 'To Øl']"
   ]
  },
  {
   "cell_type": "markdown",
   "metadata": {},
   "source": [
    "### Top breweries:\n",
    "\n",
    "This was a lot more interesting to me than the previous section on styles. \n",
    "\n",
    "* My top brewery is European! `To Øl` is Danish, and apparently I've loved their beers! I was curious which beers were from `To Øl` so I checked and found I've had 4 - three different `IPAs` and a `Hibiscus and Cranberry Sour`, which I remembered *loving*. \n",
    "\n",
    "* `Taft's Alehouse` is the only Cincinnati-based brewery in my top 5, and I *do* love their beers as well as the brewhouse itself - it's built inside an old church! Definitely a well-deserved second place.\n",
    "\n",
    "* `3 Floyds`, maker of the famous `Zombie Dust` is the least surprising of the five, with their beers usually being top-notch.\n",
    "\n",
    "* The fourth-placed `Cervezas La Virgen` is based here out of Madrid. One of the first Spanish craft breweries I discovered upon moving here, I instantly fell in love with their IPA, Pale Ale, and Pumpkin Beer, and have since tried quite a few more.\n",
    "\n",
    "* Louisville's `Against the Grain` is another really good brewery that nonetheless surprised me when it appeared fifth.\n",
    "\n",
    "### Worst breweries:\n",
    "\n",
    "On the other end of the scale, no surprise that the worst breweries tend to include your large-scale macrobreweries like `Anheuser-Busch`, `Grupo Damm` and `Grupo Mahou-San Miguel`. (Those last two are the Spanish equivalents of Budweiser, basically). However, once I started searching for the worst *craft breweries* I didn't know what to expect. \n",
    "\n",
    "* We ended up finding `Fifty West`, `Great Flood`, and `The Tap` among them - all local (ish) Cincinnati/Indianapolis/Louisiville breweries.\n",
    "* I was a bit surprised to find the famous `Founders Brewing Co.` in the bottom, as I can't remember overly disliking their beers. \n",
    "* Finally, less surprising was finding `Angry Orchard` in the bottom - while I loved them a few years ago, I've thankfully outgrown those sweet...ciders? Beers? (can you even call them that? They're technically not even ciders...)\n",
    "\n",
    "### An interesting note on duplicates:\n",
    "\n",
    "Remember in Part 1 when I decided to remove duplicates? Initially I was keeping the first copy of any beer and then deleting the rest, but I later realized that my rankings have changed over time for some beers. So I went back and changed the code to keep the *last* occurance of any beer, to preserve the most current ranking of beers, and it significantly changed the top breweries. (The bad ones stayed bad, however.) It also slightly changed my top beers, which we look at next."
   ]
  },
  {
   "cell_type": "code",
   "execution_count": null,
   "metadata": {},
   "outputs": [],
   "source": [
    "# now, consistency among breweries\n"
   ]
  },
  {
   "cell_type": "markdown",
   "metadata": {},
   "source": [
    "Now, the final statistics. Let's see which beer(s) are the top! I'll find out the highest score and then check out the beers. And afterwards, which beers are the absolute worst? This ought to be fun!"
   ]
  },
  {
   "cell_type": "code",
   "execution_count": 138,
   "metadata": {},
   "outputs": [
    {
     "name": "stdout",
     "output_type": "stream",
     "text": [
      "The highest rating is a 4.5 out of 5.\n"
     ]
    }
   ],
   "source": [
    "# top beers\n",
    "top_score = df.rating_score.max()\n",
    "print('The highest rating is a {} out of 5.'.format(top_score))"
   ]
  },
  {
   "cell_type": "code",
   "execution_count": 139,
   "metadata": {},
   "outputs": [
    {
     "data": {
      "text/html": [
       "<div>\n",
       "<style>\n",
       "    .dataframe thead tr:only-child th {\n",
       "        text-align: right;\n",
       "    }\n",
       "\n",
       "    .dataframe thead th {\n",
       "        text-align: left;\n",
       "    }\n",
       "\n",
       "    .dataframe tbody tr th {\n",
       "        vertical-align: top;\n",
       "    }\n",
       "</style>\n",
       "<table border=\"1\" class=\"dataframe\">\n",
       "  <thead>\n",
       "    <tr style=\"text-align: right;\">\n",
       "      <th></th>\n",
       "      <th>beer_name</th>\n",
       "      <th>simple_style</th>\n",
       "      <th>brewery_name</th>\n",
       "      <th>brewery_country</th>\n",
       "    </tr>\n",
       "  </thead>\n",
       "  <tbody>\n",
       "    <tr>\n",
       "      <th>207</th>\n",
       "      <td>Cuvée Spéciale 800 Ans</td>\n",
       "      <td>Blonde Ale</td>\n",
       "      <td>Brasserie de l'Abbaye du Val-Dieu</td>\n",
       "      <td>Belgium</td>\n",
       "    </tr>\n",
       "    <tr>\n",
       "      <th>252</th>\n",
       "      <td>Citradelic: Tangerine IPA</td>\n",
       "      <td>American IPA</td>\n",
       "      <td>New Belgium Brewing Company</td>\n",
       "      <td>United States</td>\n",
       "    </tr>\n",
       "    <tr>\n",
       "      <th>264</th>\n",
       "      <td>Pale Ale Citra</td>\n",
       "      <td>Pale Ale</td>\n",
       "      <td>Brouwerij Kees</td>\n",
       "      <td>Netherlands</td>\n",
       "    </tr>\n",
       "    <tr>\n",
       "      <th>331</th>\n",
       "      <td>Lupulus Hopera</td>\n",
       "      <td>Pale Ale</td>\n",
       "      <td>Brasserie Lupulus</td>\n",
       "      <td>Belgium</td>\n",
       "    </tr>\n",
       "    <tr>\n",
       "      <th>336</th>\n",
       "      <td>Orval</td>\n",
       "      <td>Pale Ale</td>\n",
       "      <td>Brasserie d'Orval</td>\n",
       "      <td>Belgium</td>\n",
       "    </tr>\n",
       "    <tr>\n",
       "      <th>389</th>\n",
       "      <td>Passion Fruit Kicker</td>\n",
       "      <td>Fruit Beer</td>\n",
       "      <td>Green Flash Brewing Company</td>\n",
       "      <td>United States</td>\n",
       "    </tr>\n",
       "    <tr>\n",
       "      <th>451</th>\n",
       "      <td>Mangö</td>\n",
       "      <td>Kölsch</td>\n",
       "      <td>Clown Shoes</td>\n",
       "      <td>United States</td>\n",
       "    </tr>\n",
       "  </tbody>\n",
       "</table>\n",
       "</div>"
      ],
      "text/plain": [
       "                     beer_name  simple_style  \\\n",
       "207     Cuvée Spéciale 800 Ans    Blonde Ale   \n",
       "252  Citradelic: Tangerine IPA  American IPA   \n",
       "264             Pale Ale Citra      Pale Ale   \n",
       "331             Lupulus Hopera      Pale Ale   \n",
       "336                      Orval      Pale Ale   \n",
       "389       Passion Fruit Kicker    Fruit Beer   \n",
       "451                      Mangö        Kölsch   \n",
       "\n",
       "                          brewery_name brewery_country  \n",
       "207  Brasserie de l'Abbaye du Val-Dieu         Belgium  \n",
       "252        New Belgium Brewing Company   United States  \n",
       "264                     Brouwerij Kees     Netherlands  \n",
       "331                  Brasserie Lupulus         Belgium  \n",
       "336                  Brasserie d'Orval         Belgium  \n",
       "389        Green Flash Brewing Company   United States  \n",
       "451                        Clown Shoes   United States  "
      ]
     },
     "execution_count": 139,
     "metadata": {},
     "output_type": "execute_result"
    }
   ],
   "source": [
    "df[['beer_name', 'simple_style', 'brewery_name', 'brewery_country']][df.rating_score == top_score]"
   ]
  },
  {
   "cell_type": "code",
   "execution_count": 13,
   "metadata": {},
   "outputs": [
    {
     "data": {
      "text/html": [
       "<div>\n",
       "<style>\n",
       "    .dataframe thead tr:only-child th {\n",
       "        text-align: right;\n",
       "    }\n",
       "\n",
       "    .dataframe thead th {\n",
       "        text-align: left;\n",
       "    }\n",
       "\n",
       "    .dataframe tbody tr th {\n",
       "        vertical-align: top;\n",
       "    }\n",
       "</style>\n",
       "<table border=\"1\" class=\"dataframe\">\n",
       "  <thead>\n",
       "    <tr style=\"text-align: right;\">\n",
       "      <th></th>\n",
       "      <th>beer_name</th>\n",
       "      <th>brewery_name</th>\n",
       "      <th>rating_score</th>\n",
       "    </tr>\n",
       "  </thead>\n",
       "  <tbody>\n",
       "    <tr>\n",
       "      <th>412</th>\n",
       "      <td>IPA (India Pale Ale)</td>\n",
       "      <td>Arcadia Brewing Company</td>\n",
       "      <td>4.25</td>\n",
       "    </tr>\n",
       "  </tbody>\n",
       "</table>\n",
       "</div>"
      ],
      "text/plain": [
       "                beer_name             brewery_name  rating_score\n",
       "412  IPA (India Pale Ale)  Arcadia Brewing Company          4.25"
      ]
     },
     "execution_count": 13,
     "metadata": {},
     "output_type": "execute_result"
    }
   ],
   "source": [
    "# where's my favorite beer at?!\n",
    "df[['beer_name', 'brewery_name', 'rating_score']][(df.brewery_name.str.contains('Arcadia')) & (df.beer_name.str.startswith('IPA'))]"
   ]
  },
  {
   "cell_type": "markdown",
   "metadata": {},
   "source": [
    "### Top beers\n",
    "\n",
    "* Not surprisingly, almost half of the beers that share the highest rating are Belgian. When people typically ask me what my 'favorite beer' is, `Orval` is one of the two beers I typically mention. \n",
    "* Interestingly enough, the other beer I consider my 'go-to favorite' isn't on the list of highest-rated beers, so I checked and found it's got a `4.25`. It just missed the cut!\n",
    "* I tend to **love** beers with a citrus taste to them, which is easily spotted here. `Green Flash's Passion Fruit Kicker`, `New Belgium's Tangerine IPA` and `Clown Shoes' Mango-flavored Kölsch` are all beers on the top that I would agree belong there.\n",
    "\n",
    "Next up, it probably won't be that surprising, but let's look at the worst beers..."
   ]
  },
  {
   "cell_type": "code",
   "execution_count": 142,
   "metadata": {},
   "outputs": [
    {
     "name": "stdout",
     "output_type": "stream",
     "text": [
      "The worst beer got a 0.25. Ouch!\n"
     ]
    }
   ],
   "source": [
    "worst_score = df.rating_score.min()\n",
    "print('The worst beer got a {}. Ouch!'.format(worst_score))"
   ]
  },
  {
   "cell_type": "markdown",
   "metadata": {},
   "source": [
    "And the award for worst beer goes to..."
   ]
  },
  {
   "cell_type": "code",
   "execution_count": 143,
   "metadata": {},
   "outputs": [
    {
     "data": {
      "text/html": [
       "<div>\n",
       "<style>\n",
       "    .dataframe thead tr:only-child th {\n",
       "        text-align: right;\n",
       "    }\n",
       "\n",
       "    .dataframe thead th {\n",
       "        text-align: left;\n",
       "    }\n",
       "\n",
       "    .dataframe tbody tr th {\n",
       "        vertical-align: top;\n",
       "    }\n",
       "</style>\n",
       "<table border=\"1\" class=\"dataframe\">\n",
       "  <thead>\n",
       "    <tr style=\"text-align: right;\">\n",
       "      <th></th>\n",
       "      <th>beer_name</th>\n",
       "      <th>simple_style</th>\n",
       "      <th>brewery_name</th>\n",
       "      <th>brewery_country</th>\n",
       "    </tr>\n",
       "  </thead>\n",
       "  <tbody>\n",
       "    <tr>\n",
       "      <th>14</th>\n",
       "      <td>Natural Light</td>\n",
       "      <td>Lager - American Light</td>\n",
       "      <td>Anheuser-Busch</td>\n",
       "      <td>United States</td>\n",
       "    </tr>\n",
       "    <tr>\n",
       "      <th>225</th>\n",
       "      <td>Alemana</td>\n",
       "      <td>Lager - Euro Strong</td>\n",
       "      <td>Carrefour</td>\n",
       "      <td>France</td>\n",
       "    </tr>\n",
       "  </tbody>\n",
       "</table>\n",
       "</div>"
      ],
      "text/plain": [
       "         beer_name            simple_style    brewery_name brewery_country\n",
       "14   Natural Light  Lager - American Light  Anheuser-Busch   United States\n",
       "225        Alemana     Lager - Euro Strong       Carrefour          France"
      ]
     },
     "execution_count": 143,
     "metadata": {},
     "output_type": "execute_result"
    }
   ],
   "source": [
    "df[['beer_name', 'simple_style', 'brewery_name', 'brewery_country']][df.rating_score == worst_score]"
   ]
  },
  {
   "cell_type": "markdown",
   "metadata": {},
   "source": [
    "Ding ding ding, we have a winner! No wait, what's that? We...we have a TIE! Our worst beers are `Natty Light` and `Carrefour Lager`. Very different, distinct tastes, however. `Natty Light` just tastes like water, so it can hardly be considered beer, while I would definitely reccommend `Carrefour Lager` as the actual worst-tasting beer I've *ever* had. Leave it to a European supermarket's awful store-brand beer to take the award!\n",
    "\n",
    "What other beers have bad ratings? This is fun, let's keep going..."
   ]
  },
  {
   "cell_type": "code",
   "execution_count": 144,
   "metadata": {},
   "outputs": [
    {
     "data": {
      "text/html": [
       "<div>\n",
       "<style>\n",
       "    .dataframe thead tr:only-child th {\n",
       "        text-align: right;\n",
       "    }\n",
       "\n",
       "    .dataframe thead th {\n",
       "        text-align: left;\n",
       "    }\n",
       "\n",
       "    .dataframe tbody tr th {\n",
       "        vertical-align: top;\n",
       "    }\n",
       "</style>\n",
       "<table border=\"1\" class=\"dataframe\">\n",
       "  <thead>\n",
       "    <tr style=\"text-align: right;\">\n",
       "      <th></th>\n",
       "      <th>beer_name</th>\n",
       "      <th>rating_score</th>\n",
       "      <th>simple_style</th>\n",
       "      <th>brewery_name</th>\n",
       "      <th>brewery_country</th>\n",
       "    </tr>\n",
       "  </thead>\n",
       "  <tbody>\n",
       "    <tr>\n",
       "      <th>14</th>\n",
       "      <td>Natural Light</td>\n",
       "      <td>0.25</td>\n",
       "      <td>Lager - American Light</td>\n",
       "      <td>Anheuser-Busch</td>\n",
       "      <td>United States</td>\n",
       "    </tr>\n",
       "    <tr>\n",
       "      <th>225</th>\n",
       "      <td>Alemana</td>\n",
       "      <td>0.25</td>\n",
       "      <td>Lager - Euro Strong</td>\n",
       "      <td>Carrefour</td>\n",
       "      <td>France</td>\n",
       "    </tr>\n",
       "    <tr>\n",
       "      <th>146</th>\n",
       "      <td>Bud Light</td>\n",
       "      <td>0.50</td>\n",
       "      <td>Lager - American Light</td>\n",
       "      <td>Anheuser-Busch</td>\n",
       "      <td>United States</td>\n",
       "    </tr>\n",
       "    <tr>\n",
       "      <th>145</th>\n",
       "      <td>Miller Lite</td>\n",
       "      <td>0.50</td>\n",
       "      <td>Pilsner</td>\n",
       "      <td>Miller Brewing Company</td>\n",
       "      <td>United States</td>\n",
       "    </tr>\n",
       "    <tr>\n",
       "      <th>34</th>\n",
       "      <td>Pabst Blue Ribbon</td>\n",
       "      <td>0.75</td>\n",
       "      <td>Lager - North American Adjunct</td>\n",
       "      <td>Pabst Brewing Company</td>\n",
       "      <td>United States</td>\n",
       "    </tr>\n",
       "    <tr>\n",
       "      <th>144</th>\n",
       "      <td>Coors Light</td>\n",
       "      <td>1.00</td>\n",
       "      <td>Lager - American Light</td>\n",
       "      <td>Coors Brewing Company</td>\n",
       "      <td>United States</td>\n",
       "    </tr>\n",
       "    <tr>\n",
       "      <th>291</th>\n",
       "      <td>Estrella Galicia</td>\n",
       "      <td>1.00</td>\n",
       "      <td>Lager - North American Adjunct</td>\n",
       "      <td>Hijos de Rivera</td>\n",
       "      <td>Spain</td>\n",
       "    </tr>\n",
       "    <tr>\n",
       "      <th>138</th>\n",
       "      <td>Thai Chili Wahoo</td>\n",
       "      <td>1.25</td>\n",
       "      <td>Spiced / Herbed Beer</td>\n",
       "      <td>Ballast Point Brewing Company</td>\n",
       "      <td>United States</td>\n",
       "    </tr>\n",
       "    <tr>\n",
       "      <th>364</th>\n",
       "      <td>Budweiser</td>\n",
       "      <td>1.50</td>\n",
       "      <td>Lager - North American Adjunct</td>\n",
       "      <td>Anheuser-Busch</td>\n",
       "      <td>United States</td>\n",
       "    </tr>\n",
       "    <tr>\n",
       "      <th>35</th>\n",
       "      <td>Bud Light Platinum</td>\n",
       "      <td>1.50</td>\n",
       "      <td>Lager - American Light</td>\n",
       "      <td>Anheuser-Busch</td>\n",
       "      <td>United States</td>\n",
       "    </tr>\n",
       "    <tr>\n",
       "      <th>286</th>\n",
       "      <td>San Miguel Premium Especial</td>\n",
       "      <td>1.50</td>\n",
       "      <td>Lager - Pale</td>\n",
       "      <td>Grupo Mahou-San Miguel</td>\n",
       "      <td>Spain</td>\n",
       "    </tr>\n",
       "    <tr>\n",
       "      <th>296</th>\n",
       "      <td>Turia Märzen</td>\n",
       "      <td>1.50</td>\n",
       "      <td>Märzen</td>\n",
       "      <td>Grupo Damm</td>\n",
       "      <td>Spain</td>\n",
       "    </tr>\n",
       "    <tr>\n",
       "      <th>66</th>\n",
       "      <td>Local Lager</td>\n",
       "      <td>1.50</td>\n",
       "      <td>Lager - American Light</td>\n",
       "      <td>The Tap Brewery</td>\n",
       "      <td>United States</td>\n",
       "    </tr>\n",
       "    <tr>\n",
       "      <th>116</th>\n",
       "      <td>Electric Stinger</td>\n",
       "      <td>1.75</td>\n",
       "      <td>Belgian Tripel</td>\n",
       "      <td>The Tap Brewery</td>\n",
       "      <td>United States</td>\n",
       "    </tr>\n",
       "    <tr>\n",
       "      <th>127</th>\n",
       "      <td>RoHoFlo</td>\n",
       "      <td>1.75</td>\n",
       "      <td>Cream Ale</td>\n",
       "      <td>MadTree Brewing Company</td>\n",
       "      <td>United States</td>\n",
       "    </tr>\n",
       "    <tr>\n",
       "      <th>248</th>\n",
       "      <td>Imperial Stout</td>\n",
       "      <td>1.75</td>\n",
       "      <td>Stout</td>\n",
       "      <td>Founders Brewing Co.</td>\n",
       "      <td>United States</td>\n",
       "    </tr>\n",
       "    <tr>\n",
       "      <th>415</th>\n",
       "      <td>Darken</td>\n",
       "      <td>1.75</td>\n",
       "      <td>Sour</td>\n",
       "      <td>Upland Brewing Company</td>\n",
       "      <td>United States</td>\n",
       "    </tr>\n",
       "  </tbody>\n",
       "</table>\n",
       "</div>"
      ],
      "text/plain": [
       "                       beer_name  rating_score  \\\n",
       "14                 Natural Light          0.25   \n",
       "225                      Alemana          0.25   \n",
       "146                    Bud Light          0.50   \n",
       "145                  Miller Lite          0.50   \n",
       "34             Pabst Blue Ribbon          0.75   \n",
       "144                  Coors Light          1.00   \n",
       "291             Estrella Galicia          1.00   \n",
       "138             Thai Chili Wahoo          1.25   \n",
       "364                    Budweiser          1.50   \n",
       "35            Bud Light Platinum          1.50   \n",
       "286  San Miguel Premium Especial          1.50   \n",
       "296                 Turia Märzen          1.50   \n",
       "66                   Local Lager          1.50   \n",
       "116             Electric Stinger          1.75   \n",
       "127                      RoHoFlo          1.75   \n",
       "248               Imperial Stout          1.75   \n",
       "415                       Darken          1.75   \n",
       "\n",
       "                       simple_style                   brewery_name  \\\n",
       "14           Lager - American Light                 Anheuser-Busch   \n",
       "225             Lager - Euro Strong                      Carrefour   \n",
       "146          Lager - American Light                 Anheuser-Busch   \n",
       "145                         Pilsner         Miller Brewing Company   \n",
       "34   Lager - North American Adjunct          Pabst Brewing Company   \n",
       "144          Lager - American Light          Coors Brewing Company   \n",
       "291  Lager - North American Adjunct                Hijos de Rivera   \n",
       "138            Spiced / Herbed Beer  Ballast Point Brewing Company   \n",
       "364  Lager - North American Adjunct                 Anheuser-Busch   \n",
       "35           Lager - American Light                 Anheuser-Busch   \n",
       "286                    Lager - Pale         Grupo Mahou-San Miguel   \n",
       "296                          Märzen                     Grupo Damm   \n",
       "66           Lager - American Light                The Tap Brewery   \n",
       "116                  Belgian Tripel                The Tap Brewery   \n",
       "127                       Cream Ale        MadTree Brewing Company   \n",
       "248                           Stout           Founders Brewing Co.   \n",
       "415                            Sour         Upland Brewing Company   \n",
       "\n",
       "    brewery_country  \n",
       "14    United States  \n",
       "225          France  \n",
       "146   United States  \n",
       "145   United States  \n",
       "34    United States  \n",
       "144   United States  \n",
       "291           Spain  \n",
       "138   United States  \n",
       "364   United States  \n",
       "35    United States  \n",
       "286           Spain  \n",
       "296           Spain  \n",
       "66    United States  \n",
       "116   United States  \n",
       "127   United States  \n",
       "248   United States  \n",
       "415   United States  "
      ]
     },
     "execution_count": 144,
     "metadata": {},
     "output_type": "execute_result"
    }
   ],
   "source": [
    "# remember from above that beers below 2.0 are very rare, so let's use that as a cutoff point\n",
    "df[['beer_name', 'rating_score', 'simple_style', 'brewery_name', 'brewery_country']][df.rating_score < 2].sort_values('rating_score')"
   ]
  },
  {
   "cell_type": "markdown",
   "metadata": {},
   "source": [
    "Now that's more like it! There's room on the podium for everyone today. We can see other garbage beers making an appearance here, including:\n",
    "\n",
    "* `Bud Light`\n",
    "* `Miller Lite`\n",
    "* `PBR`\n",
    "* `Coors Light`\n",
    "* `Estrella Galicia`\n",
    "* `Budweiser`\n",
    "* `Bud Platinum`\n",
    "* `San Miguel`\n",
    "* `Turia`\n",
    "\n",
    "Interestingly enough, a few of the worst beers are craft beers. `Upland`, `MadTree`, `Founders`, and `The Tap` were all unfortunate enough to make it with a beer here.\n",
    "\n",
    "And - for my father, if he's reading this - the legendary `Ballast Point` even made an appearance with their Spiced Thai Beer. That was a day my father and I will never forget, and not for good reasons either..."
   ]
  },
  {
   "cell_type": "markdown",
   "metadata": {},
   "source": [
    "<a id=\"section_5\"></a>"
   ]
  },
  {
   "cell_type": "markdown",
   "metadata": {},
   "source": [
    "# 5. Future plans?\n",
    "\n",
    "This is an ongoing project that I'm not entirely done with. I wanted to get the basics done and posted online for others to see, but I'm going to continue working on it in the upcoming months. Here's some future plans I have:\n",
    "\n",
    "* Clean up some existing code, namely the weekly/monthly sections. I need to fix two main issues there:\n",
    "    * Correct a slight formatting issue with the datetime string showing the start of the week, not the first day that occurred\n",
    "    * Fix the code in case two weeks/two months have the same max value. Didn't occur for me right now, but could occur in the future or for another person's data\n",
    "    \n",
    "* Fix some hardcoded spots. Especially on graphs, lots of the limits and parameters were hardcoded based on what I observed in the data. However, if I ever updated the .csv file, that won't work anymore. Additionally, if others want to use my code for their own data, it won't work in certain spots, so let's try making that all dynamic.\n",
    "* Add new analyses. I didn't look at any graphs plotting correlation. Early on, I had created graphs that compared the average beer ranking to both ABV and IBU ratings, but commented it out (below) as it wasn't super useful in it's current form. I want to consider other ways to compare data though, such as rating of beers drank by time of day, or so on. "
   ]
  },
  {
   "cell_type": "code",
   "execution_count": 145,
   "metadata": {},
   "outputs": [],
   "source": [
    "# plotting average ABV by ratings, no correlation observed\n",
    "#plt.plot(df.groupby('rating_score').beer_abv.mean())\n",
    "#plt.title('Average ABV by rating')\n",
    "#plt.xlabel('Rating')\n",
    "#plt.ylabel('Average ABV (%)');"
   ]
  },
  {
   "cell_type": "code",
   "execution_count": null,
   "metadata": {},
   "outputs": [],
   "source": [
    "# comparing average IBU to ratings shows a positive correlation\n",
    "# beers that I rate higher tend to have higher IBUs\n",
    "#plt.plot(df.groupby('rating_score').beer_ibu.mean())\n",
    "#plt.title('Average IBU by rating')\n",
    "#plt.xlabel('Rating')\n",
    "#plt.ylabel('Average IBUs');"
   ]
  }
 ],
 "metadata": {
  "kernelspec": {
   "display_name": "Python 3",
   "language": "python",
   "name": "python3"
  },
  "language_info": {
   "codemirror_mode": {
    "name": "ipython",
    "version": 3
   },
   "file_extension": ".py",
   "mimetype": "text/x-python",
   "name": "python",
   "nbconvert_exporter": "python",
   "pygments_lexer": "ipython3",
   "version": "3.6.2"
  }
 },
 "nbformat": 4,
 "nbformat_minor": 2
}
