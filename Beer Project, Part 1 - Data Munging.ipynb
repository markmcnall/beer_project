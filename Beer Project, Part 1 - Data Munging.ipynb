{
 "cells": [
  {
   "cell_type": "code",
   "execution_count": 1,
   "metadata": {},
   "outputs": [],
   "source": [
    "import pandas as pd\n",
    "import os.path\n",
    "in_filename = r'data' + os.path.sep + r'raw_beer_data.csv'\n",
    "out_filename = r'data' + os.path.sep + r'final_beer_data.csv'"
   ]
  },
  {
   "cell_type": "markdown",
   "metadata": {},
   "source": [
    "# Part 1: Data Munging\n",
    "\n",
    "First, I'll read the data from the downloaded .csv file and clean it up to help make analysis easier later. First thing will be to only select the relevant columns from the dataframe"
   ]
  },
  {
   "cell_type": "code",
   "execution_count": 2,
   "metadata": {},
   "outputs": [],
   "source": [
    "# read in data to dataframe\n",
    "in_path = os.path.join(os.getcwd(), in_filename)\n",
    "df = pd.read_csv(in_path, parse_dates=['created_at'])"
   ]
  },
  {
   "cell_type": "code",
   "execution_count": 3,
   "metadata": {},
   "outputs": [
    {
     "data": {
      "text/html": [
       "<div>\n",
       "<style>\n",
       "    .dataframe thead tr:only-child th {\n",
       "        text-align: right;\n",
       "    }\n",
       "\n",
       "    .dataframe thead th {\n",
       "        text-align: left;\n",
       "    }\n",
       "\n",
       "    .dataframe tbody tr th {\n",
       "        vertical-align: top;\n",
       "    }\n",
       "</style>\n",
       "<table border=\"1\" class=\"dataframe\">\n",
       "  <thead>\n",
       "    <tr style=\"text-align: right;\">\n",
       "      <th></th>\n",
       "      <th>beer_name</th>\n",
       "      <th>brewery_name</th>\n",
       "      <th>beer_type</th>\n",
       "      <th>beer_abv</th>\n",
       "      <th>beer_ibu</th>\n",
       "      <th>comment</th>\n",
       "      <th>venue_name</th>\n",
       "      <th>venue_city</th>\n",
       "      <th>venue_state</th>\n",
       "      <th>venue_country</th>\n",
       "      <th>...</th>\n",
       "      <th>created_at</th>\n",
       "      <th>checkin_url</th>\n",
       "      <th>beer_url</th>\n",
       "      <th>brewery_url</th>\n",
       "      <th>brewery_country</th>\n",
       "      <th>brewery_city</th>\n",
       "      <th>brewery_state</th>\n",
       "      <th>flavor_profiles</th>\n",
       "      <th>purchase_venue</th>\n",
       "      <th>serving_type</th>\n",
       "    </tr>\n",
       "  </thead>\n",
       "  <tbody>\n",
       "    <tr>\n",
       "      <th>0</th>\n",
       "      <td>Truth</td>\n",
       "      <td>Rhinegeist Brewery</td>\n",
       "      <td>IPA - American</td>\n",
       "      <td>7.2</td>\n",
       "      <td>75</td>\n",
       "      <td>very hoppy</td>\n",
       "      <td>Rhinegeist Brewery</td>\n",
       "      <td>Cincinnati</td>\n",
       "      <td>OH</td>\n",
       "      <td>United States</td>\n",
       "      <td>...</td>\n",
       "      <td>2015-10-06 20:04:06</td>\n",
       "      <td>https://untappd.com/c/232541746</td>\n",
       "      <td>https://untappd.com/beer/393430</td>\n",
       "      <td>https://untappd.com/brewery/69953</td>\n",
       "      <td>United States</td>\n",
       "      <td>Cincinnati</td>\n",
       "      <td>OH</td>\n",
       "      <td>NaN</td>\n",
       "      <td>NaN</td>\n",
       "      <td>NaN</td>\n",
       "    </tr>\n",
       "    <tr>\n",
       "      <th>1</th>\n",
       "      <td>Franz</td>\n",
       "      <td>Rhinegeist Brewery</td>\n",
       "      <td>Märzen</td>\n",
       "      <td>5.4</td>\n",
       "      <td>20</td>\n",
       "      <td>NaN</td>\n",
       "      <td>NaN</td>\n",
       "      <td>NaN</td>\n",
       "      <td>NaN</td>\n",
       "      <td>NaN</td>\n",
       "      <td>...</td>\n",
       "      <td>2015-10-06 20:04:24</td>\n",
       "      <td>https://untappd.com/c/232541985</td>\n",
       "      <td>https://untappd.com/beer/454961</td>\n",
       "      <td>https://untappd.com/brewery/69953</td>\n",
       "      <td>United States</td>\n",
       "      <td>Cincinnati</td>\n",
       "      <td>OH</td>\n",
       "      <td>NaN</td>\n",
       "      <td>NaN</td>\n",
       "      <td>NaN</td>\n",
       "    </tr>\n",
       "    <tr>\n",
       "      <th>2</th>\n",
       "      <td>Hugh</td>\n",
       "      <td>Rhinegeist Brewery</td>\n",
       "      <td>Hefeweizen</td>\n",
       "      <td>5.4</td>\n",
       "      <td>10</td>\n",
       "      <td>Good hefe. Cloves and bananas</td>\n",
       "      <td>Rhinegeist Brewery</td>\n",
       "      <td>Cincinnati</td>\n",
       "      <td>OH</td>\n",
       "      <td>United States</td>\n",
       "      <td>...</td>\n",
       "      <td>2015-10-06 20:05:38</td>\n",
       "      <td>https://untappd.com/c/232542512</td>\n",
       "      <td>https://untappd.com/beer/1230095</td>\n",
       "      <td>https://untappd.com/brewery/69953</td>\n",
       "      <td>United States</td>\n",
       "      <td>Cincinnati</td>\n",
       "      <td>OH</td>\n",
       "      <td>NaN</td>\n",
       "      <td>NaN</td>\n",
       "      <td>NaN</td>\n",
       "    </tr>\n",
       "  </tbody>\n",
       "</table>\n",
       "<p>3 rows × 23 columns</p>\n",
       "</div>"
      ],
      "text/plain": [
       "  beer_name        brewery_name       beer_type  beer_abv  beer_ibu  \\\n",
       "0     Truth  Rhinegeist Brewery  IPA - American       7.2        75   \n",
       "1     Franz  Rhinegeist Brewery          Märzen       5.4        20   \n",
       "2      Hugh  Rhinegeist Brewery      Hefeweizen       5.4        10   \n",
       "\n",
       "                         comment          venue_name  venue_city venue_state  \\\n",
       "0                     very hoppy  Rhinegeist Brewery  Cincinnati          OH   \n",
       "1                            NaN                 NaN         NaN         NaN   \n",
       "2  Good hefe. Cloves and bananas  Rhinegeist Brewery  Cincinnati          OH   \n",
       "\n",
       "   venue_country     ...               created_at  \\\n",
       "0  United States     ...      2015-10-06 20:04:06   \n",
       "1            NaN     ...      2015-10-06 20:04:24   \n",
       "2  United States     ...      2015-10-06 20:05:38   \n",
       "\n",
       "                       checkin_url                          beer_url  \\\n",
       "0  https://untappd.com/c/232541746   https://untappd.com/beer/393430   \n",
       "1  https://untappd.com/c/232541985   https://untappd.com/beer/454961   \n",
       "2  https://untappd.com/c/232542512  https://untappd.com/beer/1230095   \n",
       "\n",
       "                         brewery_url brewery_country brewery_city  \\\n",
       "0  https://untappd.com/brewery/69953   United States   Cincinnati   \n",
       "1  https://untappd.com/brewery/69953   United States   Cincinnati   \n",
       "2  https://untappd.com/brewery/69953   United States   Cincinnati   \n",
       "\n",
       "  brewery_state flavor_profiles purchase_venue serving_type  \n",
       "0            OH             NaN            NaN          NaN  \n",
       "1            OH             NaN            NaN          NaN  \n",
       "2            OH             NaN            NaN          NaN  \n",
       "\n",
       "[3 rows x 23 columns]"
      ]
     },
     "execution_count": 3,
     "metadata": {},
     "output_type": "execute_result"
    }
   ],
   "source": [
    "df.head(3)"
   ]
  },
  {
   "cell_type": "code",
   "execution_count": 4,
   "metadata": {},
   "outputs": [
    {
     "data": {
      "text/plain": [
       "Index(['beer_name', 'brewery_name', 'beer_type', 'beer_abv', 'beer_ibu',\n",
       "       'comment', 'venue_name', 'venue_city', 'venue_state', 'venue_country',\n",
       "       'venue_lat', 'venue_lng', 'rating_score', 'created_at', 'checkin_url',\n",
       "       'beer_url', 'brewery_url', 'brewery_country', 'brewery_city',\n",
       "       'brewery_state', 'flavor_profiles', 'purchase_venue', 'serving_type'],\n",
       "      dtype='object')"
      ]
     },
     "execution_count": 4,
     "metadata": {},
     "output_type": "execute_result"
    }
   ],
   "source": [
    "# let's see all the columns of data we're offered\n",
    "df.columns"
   ]
  },
  {
   "cell_type": "code",
   "execution_count": 5,
   "metadata": {},
   "outputs": [
    {
     "data": {
      "text/html": [
       "<div>\n",
       "<style>\n",
       "    .dataframe thead tr:only-child th {\n",
       "        text-align: right;\n",
       "    }\n",
       "\n",
       "    .dataframe thead th {\n",
       "        text-align: left;\n",
       "    }\n",
       "\n",
       "    .dataframe tbody tr th {\n",
       "        vertical-align: top;\n",
       "    }\n",
       "</style>\n",
       "<table border=\"1\" class=\"dataframe\">\n",
       "  <thead>\n",
       "    <tr style=\"text-align: right;\">\n",
       "      <th></th>\n",
       "      <th>beer_name</th>\n",
       "      <th>brewery_name</th>\n",
       "      <th>beer_type</th>\n",
       "      <th>beer_abv</th>\n",
       "      <th>beer_ibu</th>\n",
       "      <th>venue_name</th>\n",
       "      <th>venue_city</th>\n",
       "      <th>venue_state</th>\n",
       "      <th>venue_country</th>\n",
       "      <th>venue_lat</th>\n",
       "      <th>venue_lng</th>\n",
       "      <th>rating_score</th>\n",
       "      <th>created_at</th>\n",
       "      <th>brewery_country</th>\n",
       "      <th>brewery_city</th>\n",
       "      <th>brewery_state</th>\n",
       "    </tr>\n",
       "  </thead>\n",
       "  <tbody>\n",
       "    <tr>\n",
       "      <th>0</th>\n",
       "      <td>Truth</td>\n",
       "      <td>Rhinegeist Brewery</td>\n",
       "      <td>IPA - American</td>\n",
       "      <td>7.2</td>\n",
       "      <td>75</td>\n",
       "      <td>Rhinegeist Brewery</td>\n",
       "      <td>Cincinnati</td>\n",
       "      <td>OH</td>\n",
       "      <td>United States</td>\n",
       "      <td>39.1172</td>\n",
       "      <td>-84.5201</td>\n",
       "      <td>3.00</td>\n",
       "      <td>2015-10-06 20:04:06</td>\n",
       "      <td>United States</td>\n",
       "      <td>Cincinnati</td>\n",
       "      <td>OH</td>\n",
       "    </tr>\n",
       "    <tr>\n",
       "      <th>1</th>\n",
       "      <td>Franz</td>\n",
       "      <td>Rhinegeist Brewery</td>\n",
       "      <td>Märzen</td>\n",
       "      <td>5.4</td>\n",
       "      <td>20</td>\n",
       "      <td>NaN</td>\n",
       "      <td>NaN</td>\n",
       "      <td>NaN</td>\n",
       "      <td>NaN</td>\n",
       "      <td>NaN</td>\n",
       "      <td>NaN</td>\n",
       "      <td>3.25</td>\n",
       "      <td>2015-10-06 20:04:24</td>\n",
       "      <td>United States</td>\n",
       "      <td>Cincinnati</td>\n",
       "      <td>OH</td>\n",
       "    </tr>\n",
       "    <tr>\n",
       "      <th>2</th>\n",
       "      <td>Hugh</td>\n",
       "      <td>Rhinegeist Brewery</td>\n",
       "      <td>Hefeweizen</td>\n",
       "      <td>5.4</td>\n",
       "      <td>10</td>\n",
       "      <td>Rhinegeist Brewery</td>\n",
       "      <td>Cincinnati</td>\n",
       "      <td>OH</td>\n",
       "      <td>United States</td>\n",
       "      <td>39.1172</td>\n",
       "      <td>-84.5201</td>\n",
       "      <td>3.50</td>\n",
       "      <td>2015-10-06 20:05:38</td>\n",
       "      <td>United States</td>\n",
       "      <td>Cincinnati</td>\n",
       "      <td>OH</td>\n",
       "    </tr>\n",
       "  </tbody>\n",
       "</table>\n",
       "</div>"
      ],
      "text/plain": [
       "  beer_name        brewery_name       beer_type  beer_abv  beer_ibu  \\\n",
       "0     Truth  Rhinegeist Brewery  IPA - American       7.2        75   \n",
       "1     Franz  Rhinegeist Brewery          Märzen       5.4        20   \n",
       "2      Hugh  Rhinegeist Brewery      Hefeweizen       5.4        10   \n",
       "\n",
       "           venue_name  venue_city venue_state  venue_country  venue_lat  \\\n",
       "0  Rhinegeist Brewery  Cincinnati          OH  United States    39.1172   \n",
       "1                 NaN         NaN         NaN            NaN        NaN   \n",
       "2  Rhinegeist Brewery  Cincinnati          OH  United States    39.1172   \n",
       "\n",
       "   venue_lng  rating_score          created_at brewery_country brewery_city  \\\n",
       "0   -84.5201          3.00 2015-10-06 20:04:06   United States   Cincinnati   \n",
       "1        NaN          3.25 2015-10-06 20:04:24   United States   Cincinnati   \n",
       "2   -84.5201          3.50 2015-10-06 20:05:38   United States   Cincinnati   \n",
       "\n",
       "  brewery_state  \n",
       "0            OH  \n",
       "1            OH  \n",
       "2            OH  "
      ]
     },
     "execution_count": 5,
     "metadata": {},
     "output_type": "execute_result"
    }
   ],
   "source": [
    "# lots of those columns I won't be using, so I'll get rid of them now to make the df easier to use\n",
    "cols_to_del = ['comment', 'checkin_url', 'beer_url', 'brewery_url', 'flavor_profiles', 'purchase_venue', 'serving_type']\n",
    "df = df.drop(cols_to_del, axis=1)\n",
    "df.head(3)"
   ]
  },
  {
   "cell_type": "markdown",
   "metadata": {},
   "source": [
    "I next noticed some beers have null values for brewery_state and brewery_city. I'm going to put them in manually - I'll google the cities and add them. For non-American beers, I'll treat the state differently depending on the country."
   ]
  },
  {
   "cell_type": "code",
   "execution_count": 6,
   "metadata": {},
   "outputs": [],
   "source": [
    "# this fixes all the beers that had a null value for city\n",
    "df.loc[df.brewery_name.str.startswith('Blank Slate'), 'brewery_city'] = 'Cincinnati'\n",
    "df.loc[df.brewery_name.str.startswith('Trzech'), 'brewery_city'] = 'Tarnow'\n",
    "df.loc[df.brewery_name.str.startswith('Bang Bang'), 'brewery_city'] = 'Madrid'\n",
    "df.loc[df.brewery_name.str.startswith('CCVK'), 'brewery_city'] = 'Madrid'\n",
    "df.loc[df.brewery_name.str.startswith('Gabarrera'), 'brewery_city'] = 'Mataelpino'"
   ]
  },
  {
   "cell_type": "code",
   "execution_count": 7,
   "metadata": {},
   "outputs": [],
   "source": [
    "# this fixes all the beers that had a null value for state, as well as a few cleanup issues\n",
    "df.loc[df.brewery_city.str.contains('Liège'),'brewery_city'] = 'Liège'\n",
    "df.loc[df.brewery_city.str.contains('Liège'),'brewery_state'] = 'Liège'\n",
    "df.loc[df.brewery_city.str.contains('Cincinnati'),'brewery_state'] = 'OH'\n",
    "df.loc[df.brewery_city.str.contains('Cincinnati'),'brewery_state'] = 'OH'\n",
    "df.loc[df.brewery_city.str.contains('Madrid'), 'brewery_state'] = 'Madrid'\n",
    "df.loc[df.brewery_city.str.contains('København'), 'brewery_state'] = 'Region Hovedstaden'\n",
    "df.loc[df.brewery_city.str.contains('Copenhagen'), 'brewery_state'] = 'Region Hovedstaden'\n",
    "df.loc[df.brewery_city.str.contains('Mataelpino'), 'brewery_state'] = 'Madrid'\n",
    "df.loc[df.brewery_city.str.contains('København'), 'brewery_state'] = 'Region Hovedstaden'\n",
    "df['brewery_state'].fillna(df['brewery_city'], inplace=True)"
   ]
  },
  {
   "cell_type": "markdown",
   "metadata": {},
   "source": [
    "## Removing Duplicates\n",
    "\n",
    "I'm going to remove any beer that appears more than once. If you're interested in my reasoning:\n",
    "     \n",
    "1. I use Untappd primarily to keep a record of `1. Which beers I drink` and `2. What I thought of those beers`. I don't use untappd to keep track of *which beers I drink the most* and have been inconsistent at best with duplicates. \n",
    "2. I've never defined a set rule on duplicates; if I buy a 6-pack, for example, do I check the beer in once or six times? \n",
    "3. Many duplicates are beers I drank without realizing I'd had before. Duplicates I intentionally checked in multiple times are usually my favorite beers, while I don't check in \"garbage beers\" that I have much more regularly than craft beers (i.e. at a sporting event or a night out with friends)\n",
    "4. Much of the analysis I'm interested in is about particular beer styles and breweries, and if a beer has more than one check it'll skew the numbers unfairly. Each beer should be worth the same as any other beer."
   ]
  },
  {
   "cell_type": "code",
   "execution_count": 8,
   "metadata": {},
   "outputs": [],
   "source": [
    "# comment out if you want to keep duplicates\n",
    "df.drop_duplicates('beer_name', keep='last', inplace=True)"
   ]
  },
  {
   "cell_type": "markdown",
   "metadata": {},
   "source": [
    "Note that I kept the *last* occurance of a beer and not the first, because I figured the most accurate rating of a beer would be the most recent, i.e. the rating that the beer would currently have according to my profile."
   ]
  },
  {
   "cell_type": "markdown",
   "metadata": {},
   "source": [
    "## Simplifying Styles\n",
    "\n",
    "I want to make a new column called 'simplified_style' which combines substyles into one category, i.e. all variants of IPA into one IPA group. I'll mainly do this with beers that differ only regional variety, such as American and English Brown Ales both being Brown Ales. This isn't the same as sorting into beer families, however. Also, some styles with low numbers (such as Pumpkin Beer, where I have 3 total split among substyles) I'll leave alone, as I'm only interested in the largest few styles.\n",
    "\n",
    "Styles I'll simplfy:\n",
    "\n",
    "* Blonde Ale\n",
    "* Brown Ale\n",
    "* IPA*\n",
    "* Lager**\n",
    "* Pale Ale\n",
    "* Pilsner\n",
    "* Porter\n",
    "* Red Ale\n",
    "* Sour\n",
    "* Stout\n",
    "\n",
    "\\*For IPAs, I will follow the Brewer's Association Style Guide and put them into three categories: American IPA, English IPA, and Double/Imperial IPA. To any IPA buffs offended by this: sorry, but my data, my rules!\n",
    "\n",
    "\\**For lagers, I'm simply going to rewrite the format so that 'Lager - Euro' appears written as 'Euro Lager'"
   ]
  },
  {
   "cell_type": "code",
   "execution_count": 9,
   "metadata": {},
   "outputs": [],
   "source": [
    "# create new column and move it next to current style\n",
    "df['simple_style'] = df['beer_type']\n",
    "cols = df.columns.tolist()\n",
    "cols = cols[:3] + [cols[-1]] + cols[3:-1]\n",
    "df = df[cols]"
   ]
  },
  {
   "cell_type": "code",
   "execution_count": 10,
   "metadata": {},
   "outputs": [],
   "source": [
    "# rename styles\n",
    "df.loc[df.simple_style.str.startswith('Blonde Ale'), 'simple_style'] = 'Blonde Ale'\n",
    "df.loc[df.simple_style.str.startswith('Brown Ale'), 'simple_style'] = 'Brown Ale'\n",
    "df.loc[df.simple_style.str.startswith('Pale Ale'), 'simple_style'] = 'Pale Ale'\n",
    "df.loc[df.simple_style.str.startswith('Pilsner'), 'simple_style'] = 'Pilsner'\n",
    "df.loc[df.simple_style.str.startswith('Porter'), 'simple_style'] = 'Porter'\n",
    "df.loc[df.simple_style.str.startswith('Red Ale'), 'simple_style'] = 'Red Ale'\n",
    "df.loc[df.simple_style.str.startswith('Sour'), 'simple_style'] = 'Sour'\n",
    "df.loc[df.simple_style.str.startswith('Stout'), 'simple_style'] = 'Stout'\n",
    "\n",
    "# now, for the IPAs\n",
    "df.loc[df.simple_style.str.startswith('IPA - American'), 'simple_style'] = 'American IPA'\n",
    "df.loc[df.simple_style.str.startswith('IPA - Session'), 'simple_style'] = 'American IPA'\n",
    "df.loc[df.simple_style.str.startswith('IPA - Imperial'), 'simple_style'] = 'Imperial IPA'\n",
    "df.loc[df.simple_style.str.startswith('IPA - White'), 'simple_style'] = 'American IPA'\n",
    "df.loc[df.simple_style.str.startswith('IPA - Belgian'), 'simple_style'] = 'American IPA'\n",
    "df.loc[df.simple_style.str.startswith('IPA - Black'), 'simple_style'] = 'American Black Ale'\n",
    "df.loc[df.simple_style.str.startswith('IPA - Triple'), 'simple_style'] = 'Imperial IPA'\n",
    "df.loc[df.simple_style.str.startswith('IPA - Red'), 'simple_style'] = 'American IPA'\n",
    "df.loc[df.simple_style.str.startswith('IPA - New England'), 'simple_style'] = 'American IPA'\n",
    "df.loc[df.simple_style.str.startswith('IPA - English'), 'simple_style'] = 'English IPA'\n",
    "df.loc[df.simple_style.str.startswith('Rye IPA'), 'simple_style'] = 'American IPA'\n",
    "df.loc[df.simple_style.str.startswith('IPA - International'), 'simple_style'] = 'American IPA'"
   ]
  },
  {
   "cell_type": "markdown",
   "metadata": {},
   "source": [
    "## Adding new time columns\n",
    "\n",
    "Later, I'm going to analyze how many beers I've drank per week and month, so I'm going to help myself out by creating new columns that represent the weeks and months of the year for each check-in. To attempt to standardize and set up future potential for rewriting code to work as a program for other users, I'm going to find the first week and set that as the 'base' and count up from there."
   ]
  },
  {
   "cell_type": "code",
   "execution_count": 11,
   "metadata": {},
   "outputs": [],
   "source": [
    "# find base week\n",
    "base_year = df.created_at.dt.year.min()\n",
    "base_week = (df.created_at.dt.weekofyear + (df.created_at.dt.year % base_year * 52)).min()"
   ]
  },
  {
   "cell_type": "code",
   "execution_count": 12,
   "metadata": {},
   "outputs": [],
   "source": [
    "# create week column, subtract all by base week to normalize\n",
    "df['week'] = ((df.created_at.dt.weekofyear + (df.created_at.dt.year % base_year * 52)) - base_week)"
   ]
  },
  {
   "cell_type": "markdown",
   "metadata": {},
   "source": [
    "The month column will be a bit different; for the first year (`base_year`) the month numbers will just be 1-12, and then count up from there. So for example, I started using Untappd in October 2015. `2015` should be my base year, and my first entires should have a `month` value equal to `10`. Then, `13` would be January 2016, `25` would be January 2017, etc."
   ]
  },
  {
   "cell_type": "code",
   "execution_count": 13,
   "metadata": {},
   "outputs": [],
   "source": [
    "# create month column\n",
    "df['month'] = (df.created_at.dt.month + (df.created_at.dt.year % base_year * 12))"
   ]
  },
  {
   "cell_type": "markdown",
   "metadata": {},
   "source": [
    "## Output to new .csv file\n",
    "Last step - output this updated dataframe to a new .csv file that can be accessed later for analysis!"
   ]
  },
  {
   "cell_type": "code",
   "execution_count": 14,
   "metadata": {},
   "outputs": [],
   "source": [
    "# have to encode as utf-8, as ANSI was giving errors with foreign beers and unique characters\n",
    "out_path = os.path.join(os.getcwd(), out_filename)\n",
    "df.to_csv(out_path, index=False, encoding='utf-8')"
   ]
  }
 ],
 "metadata": {
  "kernelspec": {
   "display_name": "Python 3",
   "language": "python",
   "name": "python3"
  },
  "language_info": {
   "codemirror_mode": {
    "name": "ipython",
    "version": 3
   },
   "file_extension": ".py",
   "mimetype": "text/x-python",
   "name": "python",
   "nbconvert_exporter": "python",
   "pygments_lexer": "ipython3",
   "version": "3.6.2"
  }
 },
 "nbformat": 4,
 "nbformat_minor": 2
}
